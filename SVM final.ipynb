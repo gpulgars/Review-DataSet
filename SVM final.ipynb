{
 "cells": [
  {
   "cell_type": "code",
   "execution_count": 1,
   "metadata": {},
   "outputs": [],
   "source": [
    "from sklearn import metrics\n",
    "import numpy as np # linear algebra\n",
    "import pandas as pd # data processing\n",
    "import re, string, nltk\n",
    "from nltk.tokenize import TweetTokenizer\n",
    "from sklearn.feature_extraction.text import CountVectorizer\n",
    "from bs4 import BeautifulSoup"
   ]
  },
  {
   "cell_type": "code",
   "execution_count": 2,
   "metadata": {},
   "outputs": [
    {
     "data": {
      "text/html": [
       "<div>\n",
       "<style scoped>\n",
       "    .dataframe tbody tr th:only-of-type {\n",
       "        vertical-align: middle;\n",
       "    }\n",
       "\n",
       "    .dataframe tbody tr th {\n",
       "        vertical-align: top;\n",
       "    }\n",
       "\n",
       "    .dataframe thead th {\n",
       "        text-align: right;\n",
       "    }\n",
       "</style>\n",
       "<table border=\"1\" class=\"dataframe\">\n",
       "  <thead>\n",
       "    <tr style=\"text-align: right;\">\n",
       "      <th></th>\n",
       "      <th>tweetid</th>\n",
       "      <th>user</th>\n",
       "      <th>content</th>\n",
       "      <th>value</th>\n",
       "      <th>country</th>\n",
       "      <th>Polarity_Rating</th>\n",
       "      <th>Unnamed: 6</th>\n",
       "      <th>Unnamed: 7</th>\n",
       "      <th>Unnamed: 8</th>\n",
       "      <th>Unnamed: 9</th>\n",
       "    </tr>\n",
       "  </thead>\n",
       "  <tbody>\n",
       "    <tr>\n",
       "      <th>0</th>\n",
       "      <td>NaN</td>\n",
       "      <td>NaN</td>\n",
       "      <td>como sabe la nutella</td>\n",
       "      <td>N</td>\n",
       "      <td>Ecuador</td>\n",
       "      <td>Negative</td>\n",
       "      <td>NaN</td>\n",
       "      <td>NaN</td>\n",
       "      <td>NaN</td>\n",
       "      <td>NaN</td>\n",
       "    </tr>\n",
       "    <tr>\n",
       "      <th>1</th>\n",
       "      <td>NaN</td>\n",
       "      <td>NaN</td>\n",
       "      <td>copia barata PA PA.. xd</td>\n",
       "      <td>N</td>\n",
       "      <td>Ecuador</td>\n",
       "      <td>Negative</td>\n",
       "      <td>NaN</td>\n",
       "      <td>Positive</td>\n",
       "      <td>1271.0</td>\n",
       "      <td>0.455882</td>\n",
       "    </tr>\n",
       "    <tr>\n",
       "      <th>2</th>\n",
       "      <td>NaN</td>\n",
       "      <td>NaN</td>\n",
       "      <td>copiiiii pasteee!!!</td>\n",
       "      <td>N</td>\n",
       "      <td>Ecuador</td>\n",
       "      <td>Negative</td>\n",
       "      <td>NaN</td>\n",
       "      <td>Negative</td>\n",
       "      <td>128.0</td>\n",
       "      <td>0.045911</td>\n",
       "    </tr>\n",
       "    <tr>\n",
       "      <th>3</th>\n",
       "      <td>NaN</td>\n",
       "      <td>NaN</td>\n",
       "      <td>Diana Novillo A penas y comparto par cosas de ...</td>\n",
       "      <td>N</td>\n",
       "      <td>Ecuador</td>\n",
       "      <td>Negative</td>\n",
       "      <td>NaN</td>\n",
       "      <td>Neutral</td>\n",
       "      <td>1389.0</td>\n",
       "      <td>0.498207</td>\n",
       "    </tr>\n",
       "    <tr>\n",
       "      <th>4</th>\n",
       "      <td>NaN</td>\n",
       "      <td>NaN</td>\n",
       "      <td>Es aquello que nl puedo poseer</td>\n",
       "      <td>N</td>\n",
       "      <td>Ecuador</td>\n",
       "      <td>Neutral</td>\n",
       "      <td>NaN</td>\n",
       "      <td>NaN</td>\n",
       "      <td>2788.0</td>\n",
       "      <td>NaN</td>\n",
       "    </tr>\n",
       "  </tbody>\n",
       "</table>\n",
       "</div>"
      ],
      "text/plain": [
       "   tweetid  user                                            content value  \\\n",
       "0      NaN   NaN                               como sabe la nutella     N   \n",
       "1      NaN   NaN                            copia barata PA PA.. xd     N   \n",
       "2      NaN   NaN                                copiiiii pasteee!!!     N   \n",
       "3      NaN   NaN  Diana Novillo A penas y comparto par cosas de ...     N   \n",
       "4      NaN   NaN                     Es aquello que nl puedo poseer     N   \n",
       "\n",
       "   country Polarity_Rating  Unnamed: 6 Unnamed: 7  Unnamed: 8  Unnamed: 9  \n",
       "0  Ecuador        Negative         NaN        NaN         NaN         NaN  \n",
       "1  Ecuador        Negative         NaN   Positive      1271.0    0.455882  \n",
       "2  Ecuador        Negative         NaN   Negative       128.0    0.045911  \n",
       "3  Ecuador        Negative         NaN    Neutral      1389.0    0.498207  \n",
       "4  Ecuador         Neutral         NaN        NaN      2788.0         NaN  "
      ]
     },
     "execution_count": 2,
     "metadata": {},
     "output_type": "execute_result"
    }
   ],
   "source": [
    "data = pd.read_excel(\"TrainEcuadorFinal.xlsx\")\n",
    "\n",
    "#print head\n",
    "data.head()"
   ]
  },
  {
   "cell_type": "code",
   "execution_count": 1,
   "metadata": {},
   "outputs": [
    {
     "ename": "NameError",
     "evalue": "name 'pd' is not defined",
     "output_type": "error",
     "traceback": [
      "\u001b[1;31m---------------------------------------------------------------------------\u001b[0m",
      "\u001b[1;31mNameError\u001b[0m                                 Traceback (most recent call last)",
      "\u001b[1;32m<ipython-input-1-61d4507ba326>\u001b[0m in \u001b[0;36m<module>\u001b[1;34m\u001b[0m\n\u001b[1;32m----> 1\u001b[1;33m \u001b[0mdf2\u001b[0m \u001b[1;33m=\u001b[0m \u001b[0mpd\u001b[0m\u001b[1;33m.\u001b[0m\u001b[0mDataFrame\u001b[0m\u001b[1;33m(\u001b[0m\u001b[1;33m)\u001b[0m\u001b[1;33m\u001b[0m\u001b[1;33m\u001b[0m\u001b[0m\n\u001b[0m\u001b[0;32m      2\u001b[0m \u001b[0mdf2\u001b[0m \u001b[1;33m=\u001b[0m \u001b[0mdata\u001b[0m\u001b[1;33m\u001b[0m\u001b[1;33m\u001b[0m\u001b[0m\n\u001b[0;32m      3\u001b[0m \u001b[0mdf2\u001b[0m \u001b[1;33m=\u001b[0m \u001b[0mdata\u001b[0m\u001b[1;33m.\u001b[0m\u001b[0mdrop\u001b[0m\u001b[1;33m(\u001b[0m\u001b[1;33m[\u001b[0m\u001b[1;34m'tweetid'\u001b[0m\u001b[1;33m,\u001b[0m \u001b[1;34m'user'\u001b[0m\u001b[1;33m,\u001b[0m\u001b[1;34m'value'\u001b[0m\u001b[1;33m,\u001b[0m\u001b[1;34m'country'\u001b[0m\u001b[1;33m]\u001b[0m\u001b[1;33m,\u001b[0m \u001b[0maxis\u001b[0m\u001b[1;33m=\u001b[0m\u001b[1;36m1\u001b[0m\u001b[1;33m)\u001b[0m\u001b[1;33m\u001b[0m\u001b[1;33m\u001b[0m\u001b[0m\n\u001b[0;32m      4\u001b[0m \u001b[0mdf2\u001b[0m\u001b[1;33m.\u001b[0m\u001b[0mdropna\u001b[0m\u001b[1;33m(\u001b[0m\u001b[0minplace\u001b[0m\u001b[1;33m=\u001b[0m\u001b[1;32mTrue\u001b[0m\u001b[1;33m)\u001b[0m\u001b[1;33m\u001b[0m\u001b[1;33m\u001b[0m\u001b[0m\n\u001b[0;32m      5\u001b[0m \u001b[0mdf2\u001b[0m\u001b[1;33m.\u001b[0m\u001b[0mhead\u001b[0m\u001b[1;33m(\u001b[0m\u001b[1;33m)\u001b[0m\u001b[1;33m\u001b[0m\u001b[1;33m\u001b[0m\u001b[0m\n",
      "\u001b[1;31mNameError\u001b[0m: name 'pd' is not defined"
     ]
    }
   ],
   "source": [
    "data_clean = data.copy()\n",
    "data_clean['content_clean'] = data_clean['content'].apply(lambda x: BeautifulSoup(x, \"lxml\").text)\n",
    "data_clean = data_clean.loc[:, ['content_clean', 'Polarity_Rating']]\n",
    "data_clean.head()"
   ]
  },
  {
   "cell_type": "code",
   "execution_count": 4,
   "metadata": {},
   "outputs": [],
   "source": [
    "data_clean['content_clean'] = data_clean['content_clean'].apply(lambda x: re.split('https:\\/\\/.*', str(x))[0]) #elimina url"
   ]
  },
  {
   "cell_type": "code",
   "execution_count": 5,
   "metadata": {},
   "outputs": [],
   "source": [
    "data_clean['content_clean'] = data_clean['content_clean'].apply(lambda x: re.split('\\d+', str(x))[0]) #elimina palabras con numeros"
   ]
  },
  {
   "cell_type": "code",
   "execution_count": 6,
   "metadata": {
    "scrolled": true
   },
   "outputs": [
    {
     "data": {
      "text/html": [
       "<div>\n",
       "<style scoped>\n",
       "    .dataframe tbody tr th:only-of-type {\n",
       "        vertical-align: middle;\n",
       "    }\n",
       "\n",
       "    .dataframe tbody tr th {\n",
       "        vertical-align: top;\n",
       "    }\n",
       "\n",
       "    .dataframe thead th {\n",
       "        text-align: right;\n",
       "    }\n",
       "</style>\n",
       "<table border=\"1\" class=\"dataframe\">\n",
       "  <thead>\n",
       "    <tr style=\"text-align: right;\">\n",
       "      <th></th>\n",
       "      <th>content_clean</th>\n",
       "      <th>Polarity_Rating</th>\n",
       "    </tr>\n",
       "  </thead>\n",
       "  <tbody>\n",
       "    <tr>\n",
       "      <th>0</th>\n",
       "      <td>como sabe la nutela</td>\n",
       "      <td>Negative</td>\n",
       "    </tr>\n",
       "    <tr>\n",
       "      <th>1</th>\n",
       "      <td>copia barata PA PA.. xd</td>\n",
       "      <td>Negative</td>\n",
       "    </tr>\n",
       "    <tr>\n",
       "      <th>2</th>\n",
       "      <td>copi paste!!!</td>\n",
       "      <td>Negative</td>\n",
       "    </tr>\n",
       "    <tr>\n",
       "      <th>3</th>\n",
       "      <td>Diana Novilo A penas y comparto par cosas de S...</td>\n",
       "      <td>Negative</td>\n",
       "    </tr>\n",
       "    <tr>\n",
       "      <th>4</th>\n",
       "      <td>Es aquelo que nl puedo poser</td>\n",
       "      <td>Neutral</td>\n",
       "    </tr>\n",
       "    <tr>\n",
       "      <th>...</th>\n",
       "      <td>...</td>\n",
       "      <td>...</td>\n",
       "    </tr>\n",
       "    <tr>\n",
       "      <th>2783</th>\n",
       "      <td>#RetoLaFavorita  Aroz con huevo Sopa  de camar...</td>\n",
       "      <td>Positive</td>\n",
       "    </tr>\n",
       "    <tr>\n",
       "      <th>2784</th>\n",
       "      <td>#NUESTRARECETALAFAVORITA  MI SUEÑO ES PODER A ...</td>\n",
       "      <td>Neutral</td>\n",
       "    </tr>\n",
       "    <tr>\n",
       "      <th>2785</th>\n",
       "      <td>#NuestraRecetaLaFavorita Nuestro sueño en fami...</td>\n",
       "      <td>Neutral</td>\n",
       "    </tr>\n",
       "    <tr>\n",
       "      <th>2786</th>\n",
       "      <td>Uy que emoción desde hoy estaré muchísimo más ...</td>\n",
       "      <td>Positive</td>\n",
       "    </tr>\n",
       "    <tr>\n",
       "      <th>2787</th>\n",
       "      <td>Aceite ligh ,achiote #LaFavorita 😊</td>\n",
       "      <td>Neutral</td>\n",
       "    </tr>\n",
       "  </tbody>\n",
       "</table>\n",
       "<p>2788 rows × 2 columns</p>\n",
       "</div>"
      ],
      "text/plain": [
       "                                          content_clean Polarity_Rating\n",
       "0                                   como sabe la nutela        Negative\n",
       "1                               copia barata PA PA.. xd        Negative\n",
       "2                                         copi paste!!!        Negative\n",
       "3     Diana Novilo A penas y comparto par cosas de S...        Negative\n",
       "4                          Es aquelo que nl puedo poser         Neutral\n",
       "...                                                 ...             ...\n",
       "2783  #RetoLaFavorita  Aroz con huevo Sopa  de camar...        Positive\n",
       "2784  #NUESTRARECETALAFAVORITA  MI SUEÑO ES PODER A ...         Neutral\n",
       "2785  #NuestraRecetaLaFavorita Nuestro sueño en fami...         Neutral\n",
       "2786  Uy que emoción desde hoy estaré muchísimo más ...        Positive\n",
       "2787                 Aceite ligh ,achiote #LaFavorita 😊         Neutral\n",
       "\n",
       "[2788 rows x 2 columns]"
      ]
     },
     "execution_count": 6,
     "metadata": {},
     "output_type": "execute_result"
    }
   ],
   "source": [
    "#elimina palabras con letras repetidas\n",
    "def conti_rep_char(str1):\n",
    "    tchr = str1.group(0)\n",
    "    if len(tchr) > 1:\n",
    "      return tchr[0:1]\n",
    "      \n",
    "def check_unique_char(rep, sent_text):\n",
    "    \n",
    "    convert = re.sub(r'(\\w)\\1+', \n",
    "                     rep,\n",
    "                     sent_text)\n",
    "      \n",
    "    # returing the converted word\n",
    "    return convert\n",
    "  \n",
    "data_clean['content_clean'] = data_clean['content_clean'].apply(\n",
    "                                   lambda x : check_unique_char(conti_rep_char,\n",
    "                                                              x))\n",
    "# show Dataframe\n",
    "data_clean"
   ]
  },
  {
   "cell_type": "code",
   "execution_count": 7,
   "metadata": {},
   "outputs": [
    {
     "name": "stdout",
     "output_type": "stream",
     "text": [
      "Requirement already satisfied: emoji in c:\\users\\gpulg\\anaconda3\\lib\\site-packages (1.2.0)\n",
      "Note: you may need to restart the kernel to use updated packages.\n"
     ]
    }
   ],
   "source": [
    "pip install emoji"
   ]
  },
  {
   "cell_type": "code",
   "execution_count": 8,
   "metadata": {},
   "outputs": [],
   "source": [
    "import emoji\n",
    "\n",
    "def get_mentions_processing(text):\n",
    "    return \" \".join(filter(lambda x:x[0]!='@', text.split())) #no mentions\n",
    "\n",
    "def get_hashtags_processing(text):\n",
    "    return \" \".join(filter(lambda x:x[0]!='#', text.split())) #no hashtags\n",
    "\n",
    "def get_emojis_processing(text):\n",
    "    return str(emoji.demojize(text,language='es')).replace(\":\",\" \") #emojis a texto\n",
    "\n",
    "def get_less3words_processing(text):\n",
    "    return ' '.join([word for word in text.split() if len(word)>2]) #palabras con menos de 3 caracteres\n",
    "\n",
    "def get_text_processing(text):\n",
    "    stpword = stopwords.words('spanish')\n",
    "    no_punctuation = [char for char in text if char not in string.punctuation] #elimina puntuacion\n",
    "    no_punctuation = ''.join(no_punctuation).lower() #convierte en minuscula\n",
    "    return ' '.join([word for word in no_punctuation.split() if word.lower() not in stpword]) #elimina stopwords"
   ]
  },
  {
   "cell_type": "code",
   "execution_count": 9,
   "metadata": {
    "scrolled": true
   },
   "outputs": [
    {
     "name": "stderr",
     "output_type": "stream",
     "text": [
      "[nltk_data] Downloading package stopwords to\n",
      "[nltk_data]     C:\\Users\\gpulg\\AppData\\Roaming\\nltk_data...\n",
      "[nltk_data]   Package stopwords is already up-to-date!\n"
     ]
    },
    {
     "data": {
      "text/html": [
       "<div>\n",
       "<style scoped>\n",
       "    .dataframe tbody tr th:only-of-type {\n",
       "        vertical-align: middle;\n",
       "    }\n",
       "\n",
       "    .dataframe tbody tr th {\n",
       "        vertical-align: top;\n",
       "    }\n",
       "\n",
       "    .dataframe thead th {\n",
       "        text-align: right;\n",
       "    }\n",
       "</style>\n",
       "<table border=\"1\" class=\"dataframe\">\n",
       "  <thead>\n",
       "    <tr style=\"text-align: right;\">\n",
       "      <th></th>\n",
       "      <th>content_clean</th>\n",
       "      <th>Polarity_Rating</th>\n",
       "      <th>Content_Review</th>\n",
       "      <th>Content_Review1</th>\n",
       "      <th>Content_Review2</th>\n",
       "      <th>Content_Review3</th>\n",
       "      <th>Content_Review4</th>\n",
       "    </tr>\n",
       "  </thead>\n",
       "  <tbody>\n",
       "    <tr>\n",
       "      <th>0</th>\n",
       "      <td>¡No sabía, que increíble!</td>\n",
       "      <td>Positive</td>\n",
       "      <td>¡No sabía, que increíble!</td>\n",
       "      <td>¡No sabía, que increíble!</td>\n",
       "      <td>¡No sabía, que increíble!</td>\n",
       "      <td>¡no sabía increíble</td>\n",
       "      <td>¡no sabía increíble</td>\n",
       "    </tr>\n",
       "    <tr>\n",
       "      <th>1</th>\n",
       "      <td>Se pone  os fréjoles en remojo en una solución...</td>\n",
       "      <td>Neutral</td>\n",
       "      <td>Se pone os fréjoles en remojo en una solución ...</td>\n",
       "      <td>Se pone os fréjoles en remojo en una solución ...</td>\n",
       "      <td>Se pone os fréjoles en remojo en una solución ...</td>\n",
       "      <td>pone fréjoles remojo solución agua alcalina el...</td>\n",
       "      <td>pone fréjoles remojo solución agua alcalina el...</td>\n",
       "    </tr>\n",
       "    <tr>\n",
       "      <th>2</th>\n",
       "      <td>Buenísima es la espera la favorita es genial  ...</td>\n",
       "      <td>Positive</td>\n",
       "      <td>Buenísima es la espera la favorita es genial m...</td>\n",
       "      <td>Buenísima es la espera la favorita es genial m...</td>\n",
       "      <td>Buenísima es la espera la favorita es genial m...</td>\n",
       "      <td>buenísima espera favorita genial emociona favo...</td>\n",
       "      <td>buenísima espera favorita genial emociona favo...</td>\n",
       "    </tr>\n",
       "    <tr>\n",
       "      <th>3</th>\n",
       "      <td>¿Qué comes que adivinas? 😋😋😋😋</td>\n",
       "      <td>Neutral</td>\n",
       "      <td>¿Qué comes que adivinas? 😋😋😋😋</td>\n",
       "      <td>¿Qué comes que adivinas? 😋😋😋😋</td>\n",
       "      <td>¿Qué comes que adivinas?  cara_saboreando_comi...</td>\n",
       "      <td>¿qué comes adivinas carasaboreandocomida caras...</td>\n",
       "      <td>¿qué comes adivinas carasaboreandocomida caras...</td>\n",
       "    </tr>\n",
       "    <tr>\n",
       "      <th>4</th>\n",
       "      <td>Aroz con huevo frito paela de camarones y empa...</td>\n",
       "      <td>Neutral</td>\n",
       "      <td>Aroz con huevo frito paela de camarones y empa...</td>\n",
       "      <td>Aroz con huevo frito paela de camarones y empa...</td>\n",
       "      <td>Aroz con huevo frito paela de camarones y empa...</td>\n",
       "      <td>aroz huevo frito paela camarones empanadas polo</td>\n",
       "      <td>aroz huevo frito paela camarones empanadas polo</td>\n",
       "    </tr>\n",
       "    <tr>\n",
       "      <th>...</th>\n",
       "      <td>...</td>\n",
       "      <td>...</td>\n",
       "      <td>...</td>\n",
       "      <td>...</td>\n",
       "      <td>...</td>\n",
       "      <td>...</td>\n",
       "      <td>...</td>\n",
       "    </tr>\n",
       "    <tr>\n",
       "      <th>2783</th>\n",
       "      <td>Felicidades son los mejores y q,cumplan muchos...</td>\n",
       "      <td>Positive</td>\n",
       "      <td>Felicidades son los mejores y q,cumplan muchos...</td>\n",
       "      <td>Felicidades son los mejores y q,cumplan muchos...</td>\n",
       "      <td>Felicidades son los mejores y q,cumplan muchos...</td>\n",
       "      <td>felicidades mejores qcumplan mas endulsando di...</td>\n",
       "      <td>felicidades mejores qcumplan mas endulsando di...</td>\n",
       "    </tr>\n",
       "    <tr>\n",
       "      <th>2784</th>\n",
       "      <td>Una comida rica para celebrar el paso a la ter...</td>\n",
       "      <td>Positive</td>\n",
       "      <td>Una comida rica para celebrar el paso a la ter...</td>\n",
       "      <td>Una comida rica para celebrar el paso a la ter...</td>\n",
       "      <td>Una comida rica para celebrar el paso a la ter...</td>\n",
       "      <td>comida rica celebrar paso tercera edad ¡ ansio...</td>\n",
       "      <td>comida rica celebrar paso tercera edad ansioso...</td>\n",
       "    </tr>\n",
       "    <tr>\n",
       "      <th>2785</th>\n",
       "      <td>Domenica Alvear Para cuando mejora? 💕</td>\n",
       "      <td>Neutral</td>\n",
       "      <td>Domenica Alvear Para cuando mejora? 💕</td>\n",
       "      <td>Domenica Alvear Para cuando mejora? 💕</td>\n",
       "      <td>Domenica Alvear Para cuando mejora?  dos_coraz...</td>\n",
       "      <td>domenica alvear mejora doscorazones</td>\n",
       "      <td>domenica alvear mejora doscorazones</td>\n",
       "    </tr>\n",
       "    <tr>\n",
       "      <th>2786</th>\n",
       "      <td>Helo #LAFAVORITA me encantan como salen las pa...</td>\n",
       "      <td>Positive</td>\n",
       "      <td>Helo #LAFAVORITA me encantan como salen las pa...</td>\n",
       "      <td>Helo me encantan como salen las papas fritas c...</td>\n",
       "      <td>Helo me encantan como salen las papas fritas c...</td>\n",
       "      <td>helo encantan salen papas fritas camarones apa...</td>\n",
       "      <td>helo encantan salen papas fritas camarones apa...</td>\n",
       "    </tr>\n",
       "    <tr>\n",
       "      <th>2787</th>\n",
       "      <td>yo tb compre ayer en la tienda y solo con tapa...</td>\n",
       "      <td>Negative</td>\n",
       "      <td>yo tb compre ayer en la tienda y solo con tapa...</td>\n",
       "      <td>yo tb compre ayer en la tienda y solo con tapa...</td>\n",
       "      <td>yo tb compre ayer en la tienda y solo con tapa...</td>\n",
       "      <td>tb compre ayer tienda solo tapas azules deberi...</td>\n",
       "      <td>compre ayer tienda solo tapas azules deberian ...</td>\n",
       "    </tr>\n",
       "  </tbody>\n",
       "</table>\n",
       "<p>2788 rows × 7 columns</p>\n",
       "</div>"
      ],
      "text/plain": [
       "                                          content_clean Polarity_Rating  \\\n",
       "0                             ¡No sabía, que increíble!        Positive   \n",
       "1     Se pone  os fréjoles en remojo en una solución...         Neutral   \n",
       "2     Buenísima es la espera la favorita es genial  ...        Positive   \n",
       "3                         ¿Qué comes que adivinas? 😋😋😋😋         Neutral   \n",
       "4     Aroz con huevo frito paela de camarones y empa...         Neutral   \n",
       "...                                                 ...             ...   \n",
       "2783  Felicidades son los mejores y q,cumplan muchos...        Positive   \n",
       "2784  Una comida rica para celebrar el paso a la ter...        Positive   \n",
       "2785              Domenica Alvear Para cuando mejora? 💕         Neutral   \n",
       "2786  Helo #LAFAVORITA me encantan como salen las pa...        Positive   \n",
       "2787  yo tb compre ayer en la tienda y solo con tapa...        Negative   \n",
       "\n",
       "                                         Content_Review  \\\n",
       "0                             ¡No sabía, que increíble!   \n",
       "1     Se pone os fréjoles en remojo en una solución ...   \n",
       "2     Buenísima es la espera la favorita es genial m...   \n",
       "3                         ¿Qué comes que adivinas? 😋😋😋😋   \n",
       "4     Aroz con huevo frito paela de camarones y empa...   \n",
       "...                                                 ...   \n",
       "2783  Felicidades son los mejores y q,cumplan muchos...   \n",
       "2784  Una comida rica para celebrar el paso a la ter...   \n",
       "2785              Domenica Alvear Para cuando mejora? 💕   \n",
       "2786  Helo #LAFAVORITA me encantan como salen las pa...   \n",
       "2787  yo tb compre ayer en la tienda y solo con tapa...   \n",
       "\n",
       "                                        Content_Review1  \\\n",
       "0                             ¡No sabía, que increíble!   \n",
       "1     Se pone os fréjoles en remojo en una solución ...   \n",
       "2     Buenísima es la espera la favorita es genial m...   \n",
       "3                         ¿Qué comes que adivinas? 😋😋😋😋   \n",
       "4     Aroz con huevo frito paela de camarones y empa...   \n",
       "...                                                 ...   \n",
       "2783  Felicidades son los mejores y q,cumplan muchos...   \n",
       "2784  Una comida rica para celebrar el paso a la ter...   \n",
       "2785              Domenica Alvear Para cuando mejora? 💕   \n",
       "2786  Helo me encantan como salen las papas fritas c...   \n",
       "2787  yo tb compre ayer en la tienda y solo con tapa...   \n",
       "\n",
       "                                        Content_Review2  \\\n",
       "0                             ¡No sabía, que increíble!   \n",
       "1     Se pone os fréjoles en remojo en una solución ...   \n",
       "2     Buenísima es la espera la favorita es genial m...   \n",
       "3     ¿Qué comes que adivinas?  cara_saboreando_comi...   \n",
       "4     Aroz con huevo frito paela de camarones y empa...   \n",
       "...                                                 ...   \n",
       "2783  Felicidades son los mejores y q,cumplan muchos...   \n",
       "2784  Una comida rica para celebrar el paso a la ter...   \n",
       "2785  Domenica Alvear Para cuando mejora?  dos_coraz...   \n",
       "2786  Helo me encantan como salen las papas fritas c...   \n",
       "2787  yo tb compre ayer en la tienda y solo con tapa...   \n",
       "\n",
       "                                        Content_Review3  \\\n",
       "0                                   ¡no sabía increíble   \n",
       "1     pone fréjoles remojo solución agua alcalina el...   \n",
       "2     buenísima espera favorita genial emociona favo...   \n",
       "3     ¿qué comes adivinas carasaboreandocomida caras...   \n",
       "4       aroz huevo frito paela camarones empanadas polo   \n",
       "...                                                 ...   \n",
       "2783  felicidades mejores qcumplan mas endulsando di...   \n",
       "2784  comida rica celebrar paso tercera edad ¡ ansio...   \n",
       "2785                domenica alvear mejora doscorazones   \n",
       "2786  helo encantan salen papas fritas camarones apa...   \n",
       "2787  tb compre ayer tienda solo tapas azules deberi...   \n",
       "\n",
       "                                        Content_Review4  \n",
       "0                                   ¡no sabía increíble  \n",
       "1     pone fréjoles remojo solución agua alcalina el...  \n",
       "2     buenísima espera favorita genial emociona favo...  \n",
       "3     ¿qué comes adivinas carasaboreandocomida caras...  \n",
       "4       aroz huevo frito paela camarones empanadas polo  \n",
       "...                                                 ...  \n",
       "2783  felicidades mejores qcumplan mas endulsando di...  \n",
       "2784  comida rica celebrar paso tercera edad ansioso...  \n",
       "2785                domenica alvear mejora doscorazones  \n",
       "2786  helo encantan salen papas fritas camarones apa...  \n",
       "2787  compre ayer tienda solo tapas azules deberian ...  \n",
       "\n",
       "[2788 rows x 7 columns]"
      ]
     },
     "execution_count": 9,
     "metadata": {},
     "output_type": "execute_result"
    }
   ],
   "source": [
    "from nltk.corpus import stopwords\n",
    "nltk.download('stopwords')\n",
    "data_clean = data_clean.sample(frac=1).reset_index(drop=True)\n",
    "df1 = pd.DataFrame()\n",
    "df1 = data_clean\n",
    "df1['content_clean'] = data_clean['content_clean']\n",
    "df1['Content_Review'] = data_clean['content_clean'].apply(get_mentions_processing)\n",
    "df1['Content_Review1'] = df1['Content_Review'].apply(get_hashtags_processing)\n",
    "df1['Content_Review2'] = df1['Content_Review1'].apply(get_emojis_processing)\n",
    "df1['Content_Review3'] = df1['Content_Review2'].apply(get_text_processing)\n",
    "df1['Content_Review4'] = df1['Content_Review3'].apply(get_less3words_processing)\n",
    "df1"
   ]
  },
  {
   "cell_type": "code",
   "execution_count": 10,
   "metadata": {},
   "outputs": [
    {
     "data": {
      "text/html": [
       "<div>\n",
       "<style scoped>\n",
       "    .dataframe tbody tr th:only-of-type {\n",
       "        vertical-align: middle;\n",
       "    }\n",
       "\n",
       "    .dataframe tbody tr th {\n",
       "        vertical-align: top;\n",
       "    }\n",
       "\n",
       "    .dataframe thead th {\n",
       "        text-align: right;\n",
       "    }\n",
       "</style>\n",
       "<table border=\"1\" class=\"dataframe\">\n",
       "  <thead>\n",
       "    <tr style=\"text-align: right;\">\n",
       "      <th></th>\n",
       "      <th>Content_Review4</th>\n",
       "      <th>Polarity_Rating</th>\n",
       "    </tr>\n",
       "  </thead>\n",
       "  <tbody>\n",
       "    <tr>\n",
       "      <th>0</th>\n",
       "      <td>¡no sabía increíble</td>\n",
       "      <td>Positive</td>\n",
       "    </tr>\n",
       "    <tr>\n",
       "      <th>1</th>\n",
       "      <td>pone fréjoles remojo solución agua alcalina el...</td>\n",
       "      <td>Neutral</td>\n",
       "    </tr>\n",
       "    <tr>\n",
       "      <th>2</th>\n",
       "      <td>buenísima espera favorita genial emociona favo...</td>\n",
       "      <td>Positive</td>\n",
       "    </tr>\n",
       "    <tr>\n",
       "      <th>3</th>\n",
       "      <td>¿qué comes adivinas carasaboreandocomida caras...</td>\n",
       "      <td>Neutral</td>\n",
       "    </tr>\n",
       "    <tr>\n",
       "      <th>4</th>\n",
       "      <td>aroz huevo frito paela camarones empanadas polo</td>\n",
       "      <td>Neutral</td>\n",
       "    </tr>\n",
       "  </tbody>\n",
       "</table>\n",
       "</div>"
      ],
      "text/plain": [
       "                                     Content_Review4 Polarity_Rating\n",
       "0                                ¡no sabía increíble        Positive\n",
       "1  pone fréjoles remojo solución agua alcalina el...         Neutral\n",
       "2  buenísima espera favorita genial emociona favo...        Positive\n",
       "3  ¿qué comes adivinas carasaboreandocomida caras...         Neutral\n",
       "4    aroz huevo frito paela camarones empanadas polo         Neutral"
      ]
     },
     "execution_count": 10,
     "metadata": {},
     "output_type": "execute_result"
    }
   ],
   "source": [
    "df2 = pd.DataFrame()\n",
    "df2 = df1\n",
    "df2 = df1[['Content_Review4', 'Polarity_Rating']]\n",
    "df2.head()"
   ]
  },
  {
   "cell_type": "code",
   "execution_count": 11,
   "metadata": {
    "scrolled": true
   },
   "outputs": [
    {
     "name": "stdout",
     "output_type": "stream",
     "text": [
      "48\n",
      "(2740, 2)\n"
     ]
    },
    {
     "name": "stderr",
     "output_type": "stream",
     "text": [
      "<ipython-input-11-178ae3d6fd43>:2: SettingWithCopyWarning: \n",
      "A value is trying to be set on a copy of a slice from a DataFrame.\n",
      "Try using .loc[row_indexer,col_indexer] = value instead\n",
      "\n",
      "See the caveats in the documentation: https://pandas.pydata.org/pandas-docs/stable/user_guide/indexing.html#returning-a-view-versus-a-copy\n",
      "  df2['Content_Review4'] = df2['Content_Review4'].replace('', np.nan) # Reemplazo los registros vacíos con NaN\n"
     ]
    },
    {
     "data": {
      "text/html": [
       "<div>\n",
       "<style scoped>\n",
       "    .dataframe tbody tr th:only-of-type {\n",
       "        vertical-align: middle;\n",
       "    }\n",
       "\n",
       "    .dataframe tbody tr th {\n",
       "        vertical-align: top;\n",
       "    }\n",
       "\n",
       "    .dataframe thead th {\n",
       "        text-align: right;\n",
       "    }\n",
       "</style>\n",
       "<table border=\"1\" class=\"dataframe\">\n",
       "  <thead>\n",
       "    <tr style=\"text-align: right;\">\n",
       "      <th></th>\n",
       "      <th>Content_Review4</th>\n",
       "      <th>Polarity_Rating</th>\n",
       "    </tr>\n",
       "  </thead>\n",
       "  <tbody>\n",
       "    <tr>\n",
       "      <th>0</th>\n",
       "      <td>¡no sabía increíble</td>\n",
       "      <td>Positive</td>\n",
       "    </tr>\n",
       "    <tr>\n",
       "      <th>1</th>\n",
       "      <td>pone fréjoles remojo solución agua alcalina el...</td>\n",
       "      <td>Neutral</td>\n",
       "    </tr>\n",
       "    <tr>\n",
       "      <th>2</th>\n",
       "      <td>buenísima espera favorita genial emociona favo...</td>\n",
       "      <td>Positive</td>\n",
       "    </tr>\n",
       "    <tr>\n",
       "      <th>3</th>\n",
       "      <td>¿qué comes adivinas carasaboreandocomida caras...</td>\n",
       "      <td>Neutral</td>\n",
       "    </tr>\n",
       "    <tr>\n",
       "      <th>4</th>\n",
       "      <td>aroz huevo frito paela camarones empanadas polo</td>\n",
       "      <td>Neutral</td>\n",
       "    </tr>\n",
       "    <tr>\n",
       "      <th>...</th>\n",
       "      <td>...</td>\n",
       "      <td>...</td>\n",
       "    </tr>\n",
       "    <tr>\n",
       "      <th>2783</th>\n",
       "      <td>felicidades mejores qcumplan mas endulsando di...</td>\n",
       "      <td>Positive</td>\n",
       "    </tr>\n",
       "    <tr>\n",
       "      <th>2784</th>\n",
       "      <td>comida rica celebrar paso tercera edad ansioso...</td>\n",
       "      <td>Positive</td>\n",
       "    </tr>\n",
       "    <tr>\n",
       "      <th>2785</th>\n",
       "      <td>domenica alvear mejora doscorazones</td>\n",
       "      <td>Neutral</td>\n",
       "    </tr>\n",
       "    <tr>\n",
       "      <th>2786</th>\n",
       "      <td>helo encantan salen papas fritas camarones apa...</td>\n",
       "      <td>Positive</td>\n",
       "    </tr>\n",
       "    <tr>\n",
       "      <th>2787</th>\n",
       "      <td>compre ayer tienda solo tapas azules deberian ...</td>\n",
       "      <td>Negative</td>\n",
       "    </tr>\n",
       "  </tbody>\n",
       "</table>\n",
       "<p>2740 rows × 2 columns</p>\n",
       "</div>"
      ],
      "text/plain": [
       "                                        Content_Review4 Polarity_Rating\n",
       "0                                   ¡no sabía increíble        Positive\n",
       "1     pone fréjoles remojo solución agua alcalina el...         Neutral\n",
       "2     buenísima espera favorita genial emociona favo...        Positive\n",
       "3     ¿qué comes adivinas carasaboreandocomida caras...         Neutral\n",
       "4       aroz huevo frito paela camarones empanadas polo         Neutral\n",
       "...                                                 ...             ...\n",
       "2783  felicidades mejores qcumplan mas endulsando di...        Positive\n",
       "2784  comida rica celebrar paso tercera edad ansioso...        Positive\n",
       "2785                domenica alvear mejora doscorazones         Neutral\n",
       "2786  helo encantan salen papas fritas camarones apa...        Positive\n",
       "2787  compre ayer tienda solo tapas azules deberian ...        Negative\n",
       "\n",
       "[2740 rows x 2 columns]"
      ]
     },
     "execution_count": 11,
     "metadata": {},
     "output_type": "execute_result"
    }
   ],
   "source": [
    "# Elimino registros con Answers NaN\n",
    "df2['Content_Review4'] = df2['Content_Review4'].replace('', np.nan) # Reemplazo los registros vacíos con NaN\n",
    "print(df2['Content_Review4'].isna().sum()) \n",
    "df2 = df2.dropna(axis=0, subset=['Content_Review4'])\n",
    "print(df2.shape)\n",
    "df2"
   ]
  },
  {
   "cell_type": "code",
   "execution_count": 12,
   "metadata": {},
   "outputs": [
    {
     "name": "stdout",
     "output_type": "stream",
     "text": [
      "Neutral     1363\n",
      "Positive    1249\n",
      "Negative     128\n",
      "Name: Polarity_Rating, dtype: int64\n"
     ]
    }
   ],
   "source": [
    "print(df2['Polarity_Rating'].value_counts())"
   ]
  },
  {
   "cell_type": "code",
   "execution_count": 13,
   "metadata": {},
   "outputs": [],
   "source": [
    "from sklearn.model_selection import train_test_split\n",
    "\n",
    "train, test = train_test_split(df2, test_size=0.3, random_state=42)\n",
    "X_train = train['Content_Review4'].values\n",
    "X_test = test['Content_Review4'].values\n",
    "y_train = train['Polarity_Rating']\n",
    "y_test = test['Polarity_Rating']"
   ]
  },
  {
   "cell_type": "code",
   "execution_count": 14,
   "metadata": {},
   "outputs": [
    {
     "name": "stdout",
     "output_type": "stream",
     "text": [
      "(1918,)\n",
      "(822,)\n",
      "(1918,)\n",
      "(822,)\n"
     ]
    }
   ],
   "source": [
    "print(X_train.shape)\n",
    "print(X_test.shape)\n",
    "print(y_train.shape)\n",
    "print(y_test.shape)"
   ]
  },
  {
   "cell_type": "code",
   "execution_count": 15,
   "metadata": {},
   "outputs": [],
   "source": [
    "vect1 = CountVectorizer()\n",
    "X_train = vect1.fit_transform(X_train)\n",
    "X_test = vect1.transform(X_test)"
   ]
  },
  {
   "cell_type": "code",
   "execution_count": 16,
   "metadata": {},
   "outputs": [
    {
     "name": "stdout",
     "output_type": "stream",
     "text": [
      "(1918, 4497)\n",
      "(822, 4497)\n",
      "(1918,)\n",
      "(822,)\n"
     ]
    }
   ],
   "source": [
    "print(X_train.shape)\n",
    "print(X_test.shape)\n",
    "print(y_train.shape)\n",
    "print(y_test.shape)"
   ]
  },
  {
   "cell_type": "code",
   "execution_count": 17,
   "metadata": {
    "scrolled": false
   },
   "outputs": [
    {
     "name": "stdout",
     "output_type": "stream",
     "text": [
      "['abajo', 'abastecer', 'abc', 'abi', 'ablandar', 'ablande', 'abra', 'abrazar', 'abrazitos', 'abrazos', 'abre', 'abrimos', 'abrir', 'absolutamente', 'abu', 'abuela', 'abuelita', 'acaba', 'acabaron', 'academia', 'academialafavorita', 'acampando', 'aceder', 'aceite', 'aceiteachote', 'aceitegirasol', 'aceites', 'aceité', 'acentuar', 'aceptan', 'acepto', 'aceptó', 'acerque', 'acertada', 'acesible', 'aceso', 'acesorios', 'achaquen', 'achiote', 'achiotes', 'achote', 'achotito', 'achoto', 'acides', 'aclaración', 'acogido', 'acogjida', 'acompaña', 'acompañada', 'acompañado', 'acompañados', 'acompañan', 'acompañandonos', 'acompañante', 'acompañar', 'acompañarlo', 'acompañat', 'acompañe', 'acompaño', 'acompañó', 'aconpanñadas', 'acostarce', 'acostarme', 'actividad', 'actividades', 'actual', 'acuerdo', 'acá', 'adela', 'adelante', 'adelanto', 'ademas', 'además', 'aderesos', 'aderezo', 'aderezos', 'adhiera', 'adicta', 'adictivo', 'adios', 'adivinamos', 'adivinas', 'administrativa', 'admirable', 'admiracion', 'admiras', 'admiro', 'adolescentes', 'adoraron', 'adornar', 'adoro', 'adquirir', 'adriana', 'adriána', 'aducionamos', 'afinesgracias', 'afortunada', 'afortunadas', 'agencia', 'agencias', 'agotar', 'agradable', 'agradecer', 'agradecerle', 'agradesco', 'agradeserle', 'agrandarlo', 'agrega', 'agregamos', 'agregarlo', 'agrego', 'agri', 'agridulce', 'agua', 'aguacate', 'aguado', 'aguantado', 'aguantando', 'aguayo', 'agucate', 'aguire', 'agüita', 'ahi', 'ahora', 'ahuevas', 'ahí', 'aislamiento', 'ajaj', 'ajaja', 'ajilo', 'ajisito', 'ajo', 'ají', 'aki', 'ala', 'albahaca', 'albardada', 'albondigas', 'albóndigas', 'alcalina', 'alcance', 'alcanzar', 'aledañas', 'alegra', 'alegrar', 'alegria', 'alegría', 'alejandro', 'alerta', 'alex', 'alexandra', 'alexi', 'alexita', 'alfajor', 'alfajores', 'alfredo', 'alguien', 'alguito', 'algun', 'alguna', 'alguno', 'algún', 'aliada', 'aliado', 'aliestare', 'alimentación', 'alimenticia', 'alimento', 'alimentos', 'alistense', 'alita', 'alitas', 'aliñado', 'alma', 'almacen', 'almacenes', 'almendraspimientaetc', 'almomento', 'almuerzo', 'almuerzos', 'alta', 'altas', 'altos', 'aluminio', 'alvarado', 'alvarez', 'alvear', 'alí', 'ama', 'amada', 'amado', 'amamos', 'amante', 'amantes', 'amar', 'amare', 'amarila', 'amarilito', 'amarilos', 'amarlo', 'amas', 'ambas', 'ambateño', 'ambato', 'amen', 'americanas', 'ami', 'amiga', 'amigas', 'amigo', 'amigos', 'amistades', 'amo', 'amor', 'amores', 'amos', 'ampliar', 'amsgasi', 'amén', 'américa', 'ana', 'anaela', 'ancho', 'anchundia', 'anderson', 'ando', 'andrango', 'andre', 'andrea', 'andres', 'andré', 'anecdota', 'anemix', 'anexado', 'anforasdiciendo', 'angel', 'angela', 'angelica', 'angie', 'angiemostruo', 'anhelado', 'anhelo', 'ani', 'animo', 'anita', 'aniversario', 'antaño', 'antemano', 'anterior', 'antojitos', 'antojos', 'antonio', 'anunciando', 'anunciar', 'anuncio', 'any', 'anècdotas', 'anécdota', 'anécdotas', 'apanado', 'apanados', 'apanadura', 'apariencia', 'aparte', 'apelido', 'aperitivo', 'aplastamos', 'aplauso', 'aplican', 'aplicándole', 'apliquemos', 'apliques', 'apolo', 'aporta', 'apoyarlos', 'apoyo', 'aprende', 'aprender', 'aprendido', 'aprendiendo', 'aprendizaje', 'aprendí', 'aprovechando', 'aprovechar', 'aque', 'aquel', 'aquelo', 'aqui', 'aquieler', 'aquí', 'ardua', 'are', 'areglos', 'arelis', 'aria', 'ariba', 'ariendo', 'armamos', 'armar', 'aroma', 'aros', 'aroz', 'arrozcocido', 'arrozconcurry', 'arteaga', 'articulaciones', 'asa', 'asada', 'asadero', 'asado', 'asael', 'asar', 'aseite', 'asen', 'aser', 'aserlo', 'ases', 'asesoramiento', 'ashley', 'asi', 'asia', 'asiendo', 'asisaldriamos', 'asistente', 'aspecto', 'aste', 'asun', 'asunto', 'así', 'ataque', 'atención', 'atenta', 'atravesamos', 'atrévete', 'atun', 'atus', 'atún', 'aules', 'aun', 'aunq', 'aunque', 'auquila', 'autorizados', 'autos', 'autoservicios', 'auténtica', 'autónomo', 'avelana', 'avelanas', 'avena', 'avicola', 'avisar', 'avisen', 'avisenme', 'avícola', 'ayacucho', 'ayedenis', 'ayer', 'ayuda', 'ayudame', 'ayudamos', 'ayudan', 'ayudar', 'ayudarnos', 'ayudarte', 'ayudará', 'ayude', 'ayúdanos', 'azael', 'azar', 'azucares', 'azul', 'azule', 'azules', 'azúcar', 'azúcares', 'añade', 'añadidura', 'añadimos', 'año', 'años', 'aún', 'baber', 'bacan', 'baile', 'bajar', 'baje', 'bajo', 'bakanes', 'balarezo', 'balenita', 'bananas', 'bandeja', 'banderaecuador', 'bar', 'barata', 'barba', 'barbi', 'barboto', 'barcelona', 'barcia', 'bareiro', 'baro', 'basado', 'bases', 'bastante', 'bastión', 'basura', 'batido', 'bazar', 'bbd', 'bbq', 'beatriz', 'bebe', 'bebes', 'bebez', 'bebidacaliente', 'bebé', 'beicon', 'bela', 'beleza', 'belo', 'belos', 'belota', 'bendecir', 'bendiaga', 'bendiciendo', 'bendicion', 'bendiciones', 'bendición', 'bendiga', 'benitez', 'berinche', 'bermeo', 'berones', 'besitos', 'beso', 'besos', 'beteravas', 'beto', 'betsa', 'betsy', 'bicarbonato', 'bien', 'biene', 'bienestar', 'bife', 'bifet', 'billeteconalas', 'billetededólar', 'bistec', 'bitly', 'bitlyencuestafavorita', 'bitlymicocinafavorita', 'bitlyregistroacademia', 'blanca', 'blancas', 'blanco', 'blanda', 'boanerges', 'boca', 'bocadilos', 'bocaditos', 'bocado', 'boi', 'bola', 'boladearroz', 'bold', 'bolitas', 'bolo', 'bolon', 'bolones', 'bolsilo', 'bomba', 'bombero', 'bonaicepara', 'bonila', 'bonito', 'boquita', 'botanas', 'botela', 'botelas', 'botóndemarcadeverificación', 'boutique', 'bowl', 'brasa', 'brasas', 'brasil', 'brazas', 'bri', 'bridamos', 'brinda', 'brindada', 'brindado', 'brindamos', 'brindan', 'brindarles', 'brindarnos', 'brindo', 'briones', 'brithal', 'brochetas', 'brocoli', 'broma', 'brownies', 'browuni', 'brucheta', 'bruscheta', 'brusqueta', 'bsc', 'bucaram', 'buen', 'buena', 'buenas', 'buenisimo', 'bueno', 'buenos', 'buenísima', 'buenísimo', 'bufet', 'burgos', 'burla', 'burrito', 'busca', 'buscamos', 'buscan', 'buscando', 'butifara', 'buzónabiertoconlabanderalevantada', 'bícepsflexionado', 'cabe', 'cabelo', 'cabeza', 'cabo', 'cabrera', 'cacao', 'cacita', 'cada', 'caducadas', 'caer', 'caesar', 'cafe', 'cafetería', 'café', 'caja', 'cajistas', 'cajita', 'cajitas', 'cakes', 'calabazadehalloween', 'caldo', 'caldos', 'cale', 'calendario', 'cales', 'calida', 'calidad', 'caliente', 'calientehe', 'calientito', 'calmen', 'calor', 'cama', 'camara', 'camaron', 'camarones', 'camarón', 'cambiar', 'cambiara', 'cambiaron', 'cambies', 'cambio', 'camila', 'caminando', 'camino', 'camisetas', 'camita', 'campañas', 'canario', 'canasta', 'canastas', 'canela', 'cangrejos', 'canje', 'canjeando', 'canjear', 'canjearlas', 'canola', 'canolalogo', 'canpo', 'cansado', 'cantidad', 'capa', 'capita', 'capital', 'captura', 'capture', 'cara', 'caraagotada', 'carababeando', 'carabesando', 'carabesandoconlosojoscerrados', 'carabesandoconojossonrientes', 'caraconelceñofruncidoylabocaabierta', 'caraconmanosabrazando', 'caraconmanosobrelaboca', 'caracteristicas', 'caracteristivo', 'característico', 'caradealivio', 'caradedesaprobación', 'caradenáuseas', 'caradeporfavor', 'caradesanimada', 'caradesueño', 'carafelizconojossonrientes', 'caraguiñandoelojo', 'carahaciendounamueca', 'carajo', 'caralanzandounbeso', 'carallorando', 'carallorandoderisa', 'carallorandofuerte', 'caramelos', 'caranza', 'carapensativa', 'carapungo', 'cararadianteconojossonrientes', 'cararevolviéndosedelarisa', 'caras', 'carasaboreandocomida', 'carasacandolalengua', 'carasacandolalenguayguiñandounojo', 'carasonriendo', 'carasonriendoconaureola', 'carasonriendoconcorazones', 'carasonriendoconestrellas', 'carasonriendocongafasdesol', 'carasonriendoconlosojoscerrados', 'carasonriendoconojosdecorazón', 'carasonriendoconojosgrandes', 'carasonriendoconojossonrientes', 'carasonriendoconsudorfrío', 'carasonriendoconsuperioridad', 'carasonriente', 'caratristeperoaliviada', 'caravomitando', 'carbo', 'carbon', 'carbona', 'carbón', 'careras', 'careta', 'carilo', 'carito', 'cariño', 'cariñoso', 'carlos', 'carmen', 'carmita', 'carne', 'carnes', 'caro', 'carolina', 'carpas', 'carta', 'cartón', 'carvache', 'casa', 'casada', 'casados', 'caseros', 'casi', 'casita', 'casitas', 'caso', 'casta', 'castaña', 'castilo', 'castro', 'casé', 'catita', 'caucheros', 'cazuela', 'cañóndeconfeti', 'cebola', 'cedeño', 'ceite', 'celebraciones', 'celebrando', 'celebrar', 'celebrarlo', 'celebraré', 'celular', 'cembrina', 'cenar', 'cenas', 'censilo', 'centro', 'centró', 'cerada', 'cerado', 'cerados', 'cerca', 'cercam', 'cerdo', 'cerezo', 'cero', 'certificó', 'cerveza', 'cerámica', 'cesar', 'cevalo', 'cevalos', 'ceviche', 'ceviches', 'cevichito', 'cevivhe', 'champiñones', 'chance', 'chancho', 'chea', 'chef', 'chefg', 'chefhombre', 'chefs', 'chele', 'chesecakes', 'chevere', 'chica', 'chicha', 'chicharon', 'chicharones', 'chicharón', 'chifles', 'chikas', 'chile', 'chiquitos', 'chiros', 'chispas', 'chiste', 'chivo', 'chivopolo', 'choclo', 'chocodeliciosas', 'chocolate', 'chocolates', 'chocolatito', 'chocolatosamente', 'choez', 'chorito', 'chorizo', 'christian', 'chuparse', 'churascoaroz', 'chèvere', 'ciegas', 'ciempre', 'cienpre', 'cienpuntos', 'cierta', 'ciertas', 'cierto', 'ciertos', 'cin', 'cinthya', 'circo', 'ciscuntacias', 'ciudad', 'ciudadanía', 'ciudadsi', 'clara', 'claro', 'clase', 'clavo', 'clemencia', 'clientas', 'cliente', 'clientes', 'closets', 'cobertura', 'cobrar', 'cocerlas', 'cocido', 'cocina', 'cocinado', 'cocinados', 'cocinamos', 'cocinando', 'cocinar', 'cocinarlas', 'cocinarnos', 'cocinaro', 'cocinas', 'cocinero', 'cocino', 'cocion', 'coción', 'coco', 'cocolon', 'cocoló', 'cocolón', 'codigos', 'coge', 'cogen', 'coger', 'cogieron', 'coja', 'colaboradores', 'colada', 'colegas', 'colesterol', 'colisión', 'coloca', 'colocamos', 'colocando', 'colocar', 'colocas', 'colonizadores', 'color', 'colorada', 'colorado', 'colores', 'colorido', 'com', 'comadre', 'comanse', 'combinable', 'combinación', 'combinar', 'combinarla', 'combinarlo', 'combino', 'come', 'comedor', 'comemos', 'comen', 'comencemos', 'comensar', 'comentaremos', 'comentario', 'comentarios', 'comentarnos', 'comento', 'comenzó', 'comer', 'comeraste', 'comercial', 'comerlo', 'comermelo', 'comerte', 'comes', 'comestible', 'comi', 'comico', 'comida', 'comidas', 'comidita', 'comido', 'comiendo', 'comiendola', 'comiendolo', 'comiensa', 'comienza', 'comienzan', 'comilona', 'comimos', 'comino', 'comono', 'comor', 'compacto', 'compara', 'comparta', 'compartan', 'comparte', 'comparti', 'compartia', 'compartido', 'compartiendo', 'compartimos', 'compartir', 'compartire', 'compartiria', 'compartirlo', 'compartiré', 'compartiría', 'comparto', 'compatir', 'compañeras', 'compañero', 'compañia', 'compañía', 'competencia', 'competir', 'complemento', 'completamente', 'completar', 'complicado', 'comprame', 'compramos', 'comprar', 'comprarlas', 'comprarlo', 'compras', 'compre', 'compremos', 'compro', 'compártenos', 'comunicarte', 'comunidad', 'comérmelo', 'comí', 'comía', 'comían', 'comó', 'conbina', 'concedió', 'concejo', 'concentir', 'concentrado', 'concentrados', 'concha', 'concursando', 'concursar', 'concurso', 'concursos', 'condiciones', 'condición', 'condimentos', 'condolencias', 'conectada', 'conexión', 'confiable', 'confianza', 'confiar', 'confidencias', 'confidente', 'confio', 'confirmar', 'confirmen', 'conforman', 'congeladas', 'congelar', 'congelarlo', 'conla', 'conmigo', 'cono', 'conocer', 'conocerlo', 'conoci', 'conocida', 'conocido', 'conocimiento', 'conocí', 'conozco', 'conquista', 'conseguimos', 'conseguir', 'conseguirlo', 'consejo', 'consejos', 'consentir', 'conserve', 'consienta', 'consiente', 'consiento', 'consiga', 'consigo', 'consigue', 'consiste', 'consistencia', 'constancia', 'consulta', 'consultorio', 'consumen', 'consumidores', 'consumiendo', 'consumimos', 'consumir', 'consumo', 'contactaran', 'contacto', 'contamos', 'contar', 'contarnos', 'conte', 'contenido', 'contenta', 'contestes', 'contiene', 'contigo', 'contrario', 'contratar', 'contraten', 'control', 'contruirle', 'contándonos', 'conté', 'convence', 'converso', 'convertían', 'convierte', 'convierten', 'convina', 'conza', 'copi', 'copia', 'corazon', 'corazonesgiratorios', 'corazón', 'corazónazul', 'corazónblanco', 'corazónbrillante', 'corazónconflecha', 'corazónconlazo', 'corazóncreciente', 'corazónlatiendo', 'corazónmorado', 'corazónrojo', 'corea', 'corecta', 'corecto', 'coreo', 'coresponde', 'corona', 'corporacion', 'corporación', 'corta', 'cortaditas', 'cortar', 'cortarlo', 'corte', 'cortedecarne', 'corto', 'coructo', 'corvina', 'cosa', 'cosas', 'cosina', 'cosinar', 'cosino', 'costila', 'costo', 'costra', 'cosí', 'cre', 'crean', 'creanmelo', 'crear', 'crearon', 'creatividad', 'crecer', 'crema', 'cremas', 'cremosa', 'cremosida', 'cremosidad', 'cremosita', 'cremosito', 'cremoso', 'crepes', 'crer', 'creyeron', 'creó', 'criada', 'criola', 'criolo', 'crisis', 'cristiana', 'cristina', 'cristóbal', 'crocante', 'crocantitolafavoritaoriginal', 'crocantitos', 'cron', 'crostini', 'crudas', 'crudo', 'crujiente', 'cruz', 'crystel', 'cuales', 'cualquier', 'cualquiera', 'cuanto', 'cuantos', 'cuarto', 'cuartos', 'cuatro', 'cubierta', 'cubietos', 'cubitos', 'cubos', 'cubre', 'cubrir', 'cuchara', 'cucharada', 'cucharadas', 'cucharadita', 'cucharas', 'cuco', 'cuenca', 'cuenta', 'cuentas', 'cuentes', 'cuento', 'cuerpo', 'cuesta', 'cuestión', 'cuida', 'cuidado', 'cuidan', 'cuido', 'culantro', 'culinarios', 'culmino', 'culpa', 'cumbicus', 'cumpla', 'cumplan', 'cumple', 'cumpleaños', 'cumples', 'cumplida', 'cumplimos', 'cumplir', 'cumplirá', 'cumplo', 'cundo', 'cupcake', 'cupcakeen', 'cupcakes', 'cupones', 'cupón', 'curame', 'curso', 'cushqui', 'cuál', 'cuándo', 'cuánto', 'cuñis', 'cáncer', 'césar', 'cítrico', 'código', 'códigos', 'cómo', 'cómplice', 'daba', 'dado', 'dale', 'dame', 'damos', 'dan', 'dany', 'dar', 'daremos', 'darle', 'darme', 'darnos', 'darse', 'dará', 'daré', 'das', 'datos', 'datus', 'dayanara', 'daysi', 'dañar', 'dañe', 'daños', 'dddddd', 'debajo', 'debe', 'debemos', 'deben', 'deber', 'debera', 'deberes', 'deberían', 'debes', 'debido', 'debo', 'decaído', 'decia', 'decidió', 'decir', 'decirle', 'decirles', 'decirme', 'decirte', 'declarandolo', 'decoración', 'decorado', 'decorativos', 'decía', 'dedicación', 'dedico', 'deditos', 'deditoy', 'dedos', 'dedoscruzados', 'defectos', 'definitivamente', 'degalina', 'degusta', 'degustación', 'degustados', 'degustando', 'degustar', 'deja', 'dejado', 'dejame', 'dejamos', 'dejando', 'dejar', 'dejarnos', 'dejarte', 'dejó', 'delante', 'deleitandonos', 'deleitare', 'deleitarse', 'delgado', 'delia', 'delicado', 'delicia', 'delicias', 'delicio', 'deliciosa', 'deliciosamente', 'deliciosas', 'deliciosisisisisismo', 'delicioso', 'deliciosopues', 'deliciosos', 'delilu', 'deliluec', 'delilujoder', 'delilù', 'delilú', 'delilúesdelicioso', 'delilúmiamor', 'delilúprefiero', 'delira', 'deliru', 'delisia', 'delisioso', 'deliu', 'delos', 'delucios', 'demas', 'demasiado', 'demora', 'demorado', 'demoro', 'demostrar', 'demostrarme', 'demuestro', 'demás', 'den', 'dentro', 'depende', 'dependerá', 'depicitan', 'depiditar', 'depisitar', 'deport', 'deposita', 'depositar', 'depositarlos', 'deposite', 'deposito', 'deposité', 'depresiónadoro', 'derame', 'derecha', 'deritiendo', 'derito', 'desafiolafavorita', 'desafíodelafavorita', 'desagrada', 'desanimes', 'desarolar', 'desayuno', 'desayunos', 'descance', 'descerebrada', 'descubrí', 'descuida', 'dese', 'deseado', 'deseamos', 'deseando', 'desearía', 'desechables', 'deseguro', 'deseo', 'deseos', 'despes', 'desprenda', 'desprendible', 'despues', 'después', 'detalado', 'detale', 'detales', 'determina', 'determinado', 'deudas', 'devertido', 'deysi', 'dia', 'diadelchef', 'diadelpadre', 'diagonal', 'diana', 'diaria', 'diarias', 'diario', 'diarios', 'dias', 'diaz', 'dice', 'dicen', 'dicha', 'dicho', 'dichosos', 'diciendo', 'didactico', 'diego', 'dieron', 'dieta', 'diferencia', 'diferente', 'difrutar', 'diga', 'digame', 'digamoles', 'digan', 'diganme', 'diganos', 'digital', 'digo', 'digos', 'dije', 'dijeron', 'dijo', 'dime', 'dimos', 'dinero', 'dino', 'dinámica', 'dio', 'dios', 'dioses', 'diosisto', 'diosito', 'direciones', 'direción', 'directamente', 'directi', 'directo', 'diría', 'discapacidad', 'discule', 'disculpe', 'diseñador', 'diseños', 'disfruta', 'disfrutando', 'disfrutar', 'disfrutare', 'disfrutarlas', 'disfrutarlo', 'disfrutas', 'disfruten', 'disfruto', 'disfrútalas', 'disfrútalo', 'disfrútenla', 'disponen', 'disponible', 'dispuesto', 'distintos', 'distribuidor', 'distribuidores', 'divertida', 'divertido', 'divertidos', 'divididos', 'diviértete', 'diário', 'dió', 'doble', 'doctor', 'doctores', 'documentos', 'dog', 'dogs', 'dolor', 'domenica', 'domicilio', 'dominar', 'domingo', 'domingos', 'dominguez', 'doméstica', 'don', 'dond', 'donde', 'dora', 'doradito', 'doramos', 'dormidos', 'dormir', 'dorsodemanoconíndicealaderecha', 'dorsodemanoconíndicealaizquierda', 'dos', 'doscorazones', 'dotes', 'douglas', 'doy', 'doña', 'dsvun', 'duda', 'dueño', 'dulce', 'dulcedelilu', 'dulces', 'dulzura', 'dupla', 'dura', 'durazno', 'duraznos', 'duro', 'dándole', 'día', 'días', 'dónde', 'ecelentes', 'echo', 'ecomico', 'economía', 'económico', 'económicos', 'ecuador', 'ecuatoriana', 'ecuatorianas', 'ecuatoriano', 'ecuatorianos', 'ecuavisa', 'eda', 'edison', 'educacion', 'educación', 'edy', 'efectivo', 'efecto', 'efren', 'ejemplar', 'ejemplo', 'ejercicios', 'ejercito', 'ejla', 'el', 'ela', 'elaborado', 'elaborados', 'elaborar', 'elaborarla', 'elaboro', 'elaceite', 'elachiote', 'elas', 'elasy', 'elconcurso', 'eleción', 'electricista', 'elegidos', 'elegimos', 'elegirlo', 'elegiría', 'elementos', 'elena', 'elevada', 'elexitocomoquisiera', 'eliana', 'eliga', 'elige', 'elije', 'elijo', 'eliminar', 'elizabeth', 'elo', 'eloisa', 'elos', 'elostener', 'elsi', 'ema', 'emadeco', 'embarazadas', 'embargo', 'emociona', 'emocionada', 'emocionaria', 'emoción', 'empacadora', 'empada', 'empalagoso', 'empanada', 'empanadas', 'empaques', 'empate', 'empatía', 'empeso', 'empezamos', 'empezando', 'empezar', 'empezaron', 'empiesan', 'empleo', 'emprendedor', 'emprendedora', 'emprendedoras', 'emprendedores', 'emprender', 'emprendera', 'emprenderjuntar', 'emprendimiento', 'empresa', 'empresario', 'empresas', 'en', 'ena', 'enamora', 'enamorarse', 'enamore', 'encanta', 'encantado', 'encantadora', 'encantan', 'encantando', 'encantaria', 'encantaría', 'encantas', 'encantasiempre', 'encantodelilú', 'encantó', 'encargaria', 'encargo', 'encavta', 'enceboladas', 'encebolado', 'encerada', 'encima', 'encocado', 'encontrar', 'encontré', 'encontró', 'encostrar', 'encuentra', 'encuentro', 'endulza', 'endurese', 'enemigo', 'energía', 'energías', 'enferme', 'enfermedad', 'enfermedadnuestrarecetala', 'enfocados', 'enfrentarlo', 'enfrie', 'engaña', 'engorde', 'enlace', 'enlas', 'enpanada', 'enpanadas', 'enprender', 'enrique', 'enrolado', 'ensala', 'ensalada', 'ensaladas', 'ensalda', 'enseguida', 'enserio', 'enseñado', 'enseñan', 'enseñandonos', 'enseñarnos', 'enseño', 'enseñó', 'ensuavisa', 'ente', 'entender', 'entere', 'entiendo', 'entonces', 'entra', 'entrada', 'entrar', 'entrecot', 'entrega', 'entregagenerosidad', 'entregamos', 'entregan', 'entregar', 'entregarnos', 'entreguen', 'entristece', 'entusiasmo', 'entérate', 'envaces', 'enviaban', 'envian', 'enviar', 'enviaré', 'envidiar', 'envie', 'envié', 'envuelto', 'eos', 'equipazo', 'eric', 'ero', 'erolado', 'eror', 'es', 'escobar', 'escoje', 'esconder', 'escondiendo', 'escondo', 'escribeme', 'escribimos', 'escritor', 'escríbenos', 'escucha', 'escucharnos', 'escuela', 'escuelas', 'escurimos', 'escuro', 'esencia', 'esenciales', 'esfuerzan', 'esfuerzo', 'esfuerzos', 'esmeraldas', 'esmeraldeñas', 'espacio', 'espagueti', 'esparcir', 'especial', 'especiales', 'especialidad', 'especialmente', 'especias', 'especie', 'especies', 'especificar', 'espectacular', 'espectaculares', 'específica', 'específicos', 'espeluznante', 'esper', 'espera', 'esperamos', 'esperando', 'esperanfo', 'esperanza', 'esperanzas', 'esperar', 'esperare', 'esperemos', 'espero', 'esperomos', 'espigadearroz', 'espinaca', 'espinoza', 'esplique', 'espléndidas', 'esponjosa', 'esposa', 'esposito', 'esposo', 'espérala', 'espéranos', 'esque', 'esquicito', 'esquina', 'est', 'estabilidad', 'establecer', 'estafa', 'estafado', 'estan', 'estare', 'esteban', 'estela', 'esten', 'esthela', 'estilado', 'estimada', 'estimado', 'estofado', 'estomago', 'estrela', 'estube', 'estubo', 'estudiando', 'estudiar', 'estudiarloses', 'estudie', 'estudien', 'estudio', 'estudios', 'estudió', 'estupendo', 'estás', 'etc', 'etiqueta', 'etiquetas', 'evelyn', 'eventos', 'evitar', 'evitarles', 'exactamente', 'excelencia', 'excelente', 'exclamacióndoble', 'exelent', 'exelente', 'exelentes', 'exelrnte', 'exisitir', 'existe', 'existen', 'existir', 'exito', 'exitos', 'exitosa', 'experimentar', 'expertos', 'explica', 'explicarte', 'explosión', 'exquisita', 'exquisitas', 'exquisito', 'exquisitos', 'extender', 'extiende', 'extra', 'extraer', 'extraordinarios', 'extremadamente', 'fabiola', 'fabián', 'faborita', 'fabricio', 'fabril', 'fabuloso', 'fabulosos', 'faceb', 'facebok', 'facil', 'facin', 'facina', 'falecido', 'falecio', 'falta', 'faltaba', 'faltan', 'faltar', 'famila', 'familas', 'familia', 'familiahombremujerniñaniña', 'familiahombremujerniñaniño', 'familiamujermujerniñaniño', 'familiar', 'familiares', 'familias', 'famosa', 'fan', 'fanesca', 'fanezca', 'fans', 'fantasma', 'fantastico', 'fantástico', 'fany', 'fascina', 'fasil', 'fatima', 'fav', 'favirita', 'favor', 'favorecido', 'favores', 'favoreser', 'favorira', 'favorita', 'favoritaconcentrado', 'favoritadia', 'favoritala', 'favoritano', 'favoritaparte', 'favoritas', 'favoritaspero', 'favoritay', 'favorito', 'favoritos', 'favoritovíctor', 'favoritoya', 'fea', 'fecebok', 'fecha', 'fechas', 'felices', 'felicidad', 'felicidades', 'felicidafes', 'felicitaciones', 'felicito', 'felisitaciones', 'feliz', 'felíz', 'fernanda', 'fernandez', 'fernando', 'fernández', 'festejamos', 'festejar', 'festivaldelseco', 'fideo', 'fideos', 'fiel', 'fiesta', 'fiestas', 'figura', 'figuras', 'figuritas', 'fila', 'fileteada', 'fin', 'final', 'finalidad', 'finalizó', 'financiera', 'finas', 'fines', 'fino', 'firma', 'firme', 'fis', 'fitas', 'flaca', 'flor', 'flores', 'foletos', 'fondo', 'forma', 'formada', 'formado', 'formamos', 'formas', 'formulario', 'fortaleza', 'foto', 'fracasos', 'frace', 'fraganti', 'francia', 'franco', 'franja', 'franquicia', 'frapé', 'frasco', 'frase', 'fredy', 'freir', 'freirlas', 'frejol', 'frejoles', 'freno', 'frente', 'fresa', 'fresas', 'fresca', 'fresco', 'fria', 'frita', 'fritada', 'fritas', 'frito', 'fritos', 'frió', 'frutas', 'frutila', 'frutilas', 'fréjoles', 'fría', 'frías', 'frío', 'fueronos', 'fuerte', 'fuertes', 'fuertesleva', 'fuerza', 'fuerzas', 'ful', 'fundamental', 'fundas', 'fundirá', 'futuro', 'fácil', 'gabinete', 'gabriela', 'gabucha', 'gaby', 'galeta', 'galetas', 'galetitas', 'galina', 'galinay', 'gambafrita', 'gamboa', 'gana', 'ganador', 'ganadora', 'ganadoras', 'ganadores', 'ganamos', 'ganar', 'ganarme', 'ganarmelo', 'ganaron', 'ganas', 'gane', 'gano', 'gané', 'ganó', 'garcia', 'garciamily', 'garzon', 'gasolinera', 'gasta', 'gastos', 'gastro', 'gastronomia', 'gastronomía', 'gaveta', 'geancarlos', 'gem', 'geminiana', 'general', 'generalmente', 'generar', 'genere', 'genero', 'genesis', 'genial', 'geniales', 'gente', 'geovany', 'gerente', 'germam', 'gesto', 'gilda', 'ginacio', 'ginger', 'gioconda', 'giselita', 'gladis', 'gladys', 'glenda', 'gloria', 'glucosa', 'gobernantes', 'gobierno', 'golosina', 'gonzale', 'gonzales', 'gonzalez', 'gonzález', 'gordo', 'gotas', 'gracias', 'graciasestaré', 'graciasjajajaja', 'graciasx', 'grade', 'graduados', 'gran', 'grande', 'grandeo', 'grandes', 'grandiosos', 'graneados', 'granos', 'grasa', 'grasos', 'gratificante', 'gratis', 'gratospor', 'grey', 'gritar', 'gritaria', 'gruesa', 'grumos', 'grupo', 'grupos', 'guacala', 'guapa', 'guapisima', 'guardada', 'guardado', 'guardar', 'guayaco', 'guayacos', 'guayaquil', 'guayaquilquisiera', 'gudta', 'guera', 'guerera', 'guiado', 'guilermo', 'guineo', 'guineos', 'guisos', 'gusta', 'gustan', 'gustar', 'gustaria', 'gustaron', 'gustaría', 'guste', 'gustito', 'gusto', 'gustó', 'gutierez', 'guzman', 'guía', 'gánate', 'gäbüxïtä', 'haber', 'habia', 'habilidades', 'hablada', 'hables', 'habra', 'hace', 'hacemos', 'hacen', 'hacendosas', 'hacer', 'hacerla', 'hacerlas', 'hacerle', 'hacerles', 'hacerlo', 'hacerlos', 'hacernos', 'hacerse', 'hacia', 'haciendo', 'haciéndolo', 'haga', 'hagamos', 'hagan', 'hago', 'hagámoslo', 'hambre', 'hamburguesa', 'hamburguesas', 'hare', 'harina', 'haría', 'hashtag', 'hawaiana', 'hawaina', 'hawiana', 'hayi', 'hcer', 'hecha', 'hecho', 'hechos', 'heidye', 'helado', 'helados', 'helen', 'helo', 'hermana', 'hermanas', 'hermanita', 'hermano', 'hermanos', 'hermelinda', 'hermosa', 'hermoso', 'hernana', 'hey', 'hice', 'hicieron', 'hicimos', 'hierbabuena', 'hierbas', 'hierva', 'hija', 'hijas', 'hijita', 'hijo', 'hijos', 'hijosfamilia', 'hijosy', 'hilo', 'hiper', 'hirviendo', 'hize', 'hizo', 'hna', 'hogar', 'hogares', 'hoja', 'hojas', 'hojitas', 'hokey', 'hola', 'holcim', 'hombre', 'homogénea', 'honesta', 'honey', 'honor', 'hora', 'horario', 'horita', 'hornado', 'horno', 'hortalizas', 'hostal', 'hot', 'hotcakes', 'house', 'hoy', 'hueso', 'huesos', 'huevito', 'huevo', 'huevos', 'huevossopa', 'hugo', 'huguito', 'humano', 'humanos', 'humilde', 'humildes', 'humor', 'huratdo', 'hurtado', 'huyó', 'hvda', 'hábiles', 'hágase', 'héroes', 'icomamosjuntosconlacuchara', 'idea', 'ideal', 'identidad', 'identifico', 'idolo', 'ignorante', 'igual', 'impactada', 'impartiendo', 'imperfecto', 'importa', 'importante', 'importantes', 'imposible', 'impresionada', 'impresionantemente', 'impresora', 'incentivar', 'incentivaria', 'incentiven', 'incluirlo', 'incluso', 'incluye', 'incomparable', 'incompetentes', 'incompleta', 'inconveniente', 'inconvenientes', 'incoparable', 'increible', 'increibles', 'incrementar', 'increíble', 'inculco', 'independencia', 'indicados', 'indicó', 'indio', 'indiscreta', 'ineresa', 'inesita', 'infaltable', 'infinita', 'infinito', 'influir', 'infor', 'informacion', 'información', 'informarnos', 'informen', 'ingredien', 'ingrediente', 'ingredientes', 'ingresa', 'ingresar', 'ingresen', 'ingreso', 'ingrid', 'inguilay', 'iniciando', 'iniciativa', 'iniguable', 'inigual', 'inigualable', 'injusto', 'inorancia', 'inovador', 'inscribir', 'inscribirme', 'inscribirse', 'inscribirte', 'inscribí', 'inscripción', 'inscrita', 'inscríbete', 'inspira', 'inspiración', 'inspiró', 'instante', 'instruyase', 'insumos', 'insuperable', 'insípida', 'intagram', 'integrante', 'inteligentes', 'intenso', 'intentare', 'intento', 'interesada', 'interesante', 'interesantes', 'internacional', 'internacionalmente', 'internet', 'interno', 'internos', 'intriago', 'inténtelo', 'invencible', 'investigar', 'invitado', 'invitamos', 'invitan', 'inviteme', 'invito', 'inválido', 'inyectarle', 'inés', 'iorena', 'ireaiatible', 'irene', 'iresistible', 'irme', 'iré', 'isabel', 'isla', 'italian', 'italiano', 'italianos', 'ivan', 'iveth', 'jachero', 'jacqueline', 'jacquita', 'jactan', 'jaja', 'jajaj', 'jajaja', 'jajajaja', 'jajajajaj', 'jajajajajaja', 'jajajajajajajajajajajajajaja', 'jamas', 'jamie', 'jamon', 'jamás', 'jamón', 'janesita', 'janeth', 'jaramilo', 'jarin', 'jarto', 'javier', 'jaz', 'jefe', 'jeferson', 'jehova', 'jejej', 'jejeje', 'jejejeje', 'jejejejejeje', 'jejey', 'jeky', 'jente', 'jesica', 'jesus', 'jesy', 'jhoana', 'jhormel', 'jijiji', 'jijijijiji', 'jjajs', 'johana', 'johanes', 'johanita', 'jokeys', 'jonathan', 'jorge', 'jose', 'josed', 'juan', 'juanito', 'juego', 'juegos', 'jugar', 'jugaron', 'jugo', 'jugos', 'jugosa', 'jugoso', 'juguito', 'julia', 'julio', 'julisa', 'jungla', 'junior', 'junta', 'juntar', 'juntas', 'juntitos', 'junto', 'juntos', 'jusgar', 'justamente', 'justo', 'karaoke', 'karem', 'karen', 'karim', 'karina', 'katherine', 'katia', 'katy', 'kdelicia', 'keda', 'kede', 'keiner', 'kely', 'kerida', 'kerly', 'key', 'keys', 'khe', 'kiennoa', 'kiero', 'kisiera', 'kit', 'kits', 'kius', 'kiwi', 'kpc', 'laacademialafavorita', 'labios', 'laboran', 'labores', 'lado', 'ladronas', 'lafavorita', 'lafavoritaec', 'lama', 'laman', 'lamar', 'lamboneria', 'lamo', 'langosta', 'langostinos', 'lanzamiento', 'lanzar', 'lapingachos', 'lareami', 'larecetadelexito', 'largo', 'lasambajara', 'lasaña', 'lascano', 'laso', 'lastimosamente', 'lata', 'latacunga', 'latercera', 'laura', 'laurel', 'laurita', 'lavada', 'lavar', 'lavaxora', 'lavo', 'laz', 'lazañas', 'lea', 'leche', 'lechuga', 'leda', 'ledoy', 'leencanta', 'lega', 'legada', 'legadas', 'legado', 'legales', 'legan', 'legando', 'legar', 'lego', 'legua', 'legumbres', 'legumgres', 'leidy', 'lejos', 'lejosla', 'lena', 'leno', 'lenos', 'lentejas', 'leo', 'leon', 'leonor', 'ler', 'lesbiano', 'lesly', 'letra', 'lety', 'leva', 'levado', 'levan', 'levanta', 'levantando', 'levantarme', 'levantarnos', 'levantarse', 'levanto', 'levar', 'levarlos', 'lever', 'levo', 'ley', 'leyenda', 'libros', 'liderando', 'ligando', 'ligero', 'ligh', 'light', 'lilian', 'limpia', 'limpiarlo', 'limpieza', 'limpio', 'limpios', 'limón', 'linda', 'lindo', 'lindos', 'line', 'lingh', 'link', 'lino', 'liquidos', 'lis', 'liset', 'lisete', 'lista', 'listas', 'listo', 'litro', 'litros', 'lix', 'lizeth', 'llumigusin', 'lo', 'loa', 'local', 'locales', 'locos', 'locrito', 'locro', 'locros', 'logotipo', 'logra', 'lograr', 'lograria', 'lograrás', 'logre', 'logreen', 'logro', 'logré', 'logró', 'loja', 'lojanos', 'lokes', 'lolis', 'loly', 'lomejor', 'lomo', 'lopez', 'loq', 'lor', 'loran', 'lore', 'lorena', 'loteria', 'lotería', 'louis', 'lourdes', 'lousa', 'lps', 'lucha', 'luchado', 'luchador', 'luchadora', 'luchamos', 'luchar', 'lucharvencer', 'lucho', 'lucy', 'luego', 'lugar', 'luis', 'luisconocer', 'luisy', 'lulita', 'luna', 'lunes', 'luvias', 'luz', 'lwvan', 'láser', 'líderes', 'línea', 'mabel', 'macas', 'macias', 'madera', 'madre', 'madrecita', 'madreela', 'madres', 'madresita', 'maduro', 'maduros', 'maestros', 'mafernanda', 'magaly', 'magico', 'magis', 'maite', 'majada', 'majado', 'majamos', 'majito', 'mal', 'malas', 'malcriada', 'malo', 'malroc', 'malteada', 'malvavisco', 'mama', 'mames', 'mami', 'mamita', 'mamá', 'manaba', 'manabita', 'manabitas', 'manabí', 'manchamos', 'manda', 'mandaba', 'mandamos', 'mandar', 'mandaron', 'mande', 'manera', 'maneras', 'mani', 'mania', 'manjar', 'mano', 'manoconseñaldevictoria', 'manos', 'manosaplaudiendo', 'manosaplaudiendotonodepielclaro', 'manosaplaudiendotonodepielmedio', 'manosaplaudiendotonodepieloscuromedio', 'manosenoración', 'manoslevantadascelebrando', 'manta', 'manteca', 'mantener', 'mantenerla', 'mantenga', 'mantente', 'mantenía', 'mantequila', 'mantiene', 'manualidades', 'manzanalafavorita', 'maní', 'mar', 'maravila', 'maravilas', 'maravilo', 'maravilosa', 'maravilosas', 'maraviloso', 'marbila', 'marca', 'marcadebeso', 'marcas', 'marcelita', 'marcia', 'maria', 'marian', 'maribel', 'marido', 'marilin', 'marina', 'marinada', 'marinar', 'marinera', 'marisco', 'mariscos', 'marisqueria', 'maritza', 'mariuxi', 'marjorie', 'market', 'marlene', 'martes', 'martha', 'marthy', 'martinez', 'marvin', 'mary', 'maría', 'mas', 'masa', 'matambre', 'matar', 'mateo', 'materia', 'material', 'materiales', 'matine', 'maximo', 'maydeth', 'mayeli', 'mayonesa', 'mayor', 'mayores', 'mayoría', 'mayra', 'maíz', 'mañana', 'mañanas', 'mdf', 'mecanismo', 'mecánico', 'medalones', 'media', 'medida', 'medidas', 'medio', 'mega', 'megustan', 'mejor', 'mejora', 'mejorando', 'mejore', 'mejores', 'mejoria', 'meloso', 'meló', 'meme', 'memes', 'mena', 'mendieta', 'menestra', 'menestrabien', 'menos', 'mensaje', 'mensajes', 'mentes', 'mentir', 'mentira', 'mera', 'mercado', 'mercedes', 'merchán', 'mercy', 'mereces', 'meremos', 'merezca', 'merezco', 'merienda', 'mero', 'mery', 'mes', 'mesa', 'mesas', 'meses', 'meta', 'mete', 'meter', 'metido', 'meto', 'mezcla', 'mezcladas', 'mezclado', 'mezclamo', 'mezclamos', 'mezclar', 'mezclas', 'mia', 'michael', 'micro', 'midulcedelilu', 'midulcedelilú', 'miedo', 'miel', 'miguel', 'mil', 'milagro', 'milde', 'milonario', 'milshake', 'milón', 'mimadrecita', 'mindo', 'mini', 'minimo', 'minmami', 'minutos', 'mio', 'mira', 'mirar', 'mireya', 'misericordia', 'mishi', 'misma', 'mismas', 'mismo', 'mismos', 'mistad', 'mitad', 'mitades', 'mix', 'mixta', 'mixto', 'mjeor', 'modificarlo', 'modos', 'modula', 'mojadito', 'molde', 'molemos', 'moler', 'molida', 'molina', 'momento', 'momentos', 'moncada', 'moncayo', 'moncerate', 'monento', 'monica', 'monika', 'monoconlosojostapados', 'monse', 'monserate', 'monstruos', 'montar', 'monte', 'montecristi', 'montes', 'montón', 'mora', 'morada', 'morales', 'moran', 'moreira', 'moreno', 'morir', 'moro', 'mosco', 'mosquera', 'mostaza', 'motivacion', 'motivar', 'motivo', 'motivos', 'motor', 'mover', 'mozarela', 'mucha', 'muchachas', 'muchachos', 'muchas', 'muchis', 'muchisimad', 'muchisimas', 'muchoi', 'muchísimo', 'mudas', 'mufin', 'mujer', 'mujeres', 'mujeryhombredelamano', 'mundial', 'mundo', 'murió', 'musica', 'muslodepollo', 'mustard', 'muy', 'myriam', 'mágico', 'máximo', 'méxico', 'mínimo', 'mítico', 'módulo', 'módulos', 'música', 'nacional', 'nació', 'nada', 'nadanadita', 'nadie', 'nancy', 'nancyta', 'naranja', 'naranjadas', 'narativos', 'narcisa', 'nariz', 'nathalie', 'nathaly', 'natural', 'navidad', 'necesaria', 'necesarias', 'necesario', 'necesidad', 'necesidades', 'necesita', 'necesitamos', 'necesitan', 'necesiten', 'necesito', 'ned', 'negocio', 'negocios', 'negociosacar', 'negra', 'negro', 'nelita', 'nely', 'nelys', 'nena', 'neny', 'nestor', 'neutro', 'nevera', 'nico', 'nidian', 'nieta', 'nietas', 'nietita', 'nieto', 'nietos', 'ninguna', 'ninguno', 'ningún', 'nivel', 'niveles', 'niña', 'niñas', 'niño', 'niños', 'no', 'noble', 'noche', 'noches', 'nombre', 'nones', 'nop', 'norma', 'normal', 'norte', 'nosabe', 'nosostros', 'nostros', 'nota', 'noticias', 'novedosa', 'novelas', 'novilo', 'novio', 'nueces', 'nuera', 'nuestas', 'nuestr', 'nuestrarecetalafavorita', 'nueva', 'nuevamente', 'nuevas', 'nuevo', 'nuevos', 'numero', 'nunca', 'nutela', 'nutelaxd', 'nutritivas', 'nutritivos', 'néstor', 'número', 'oara', 'obligaciones', 'obsequio', 'obstáculos', 'obtener', 'obviamente', 'obvio', 'ocacion', 'ocacionados', 'ocasión', 'ocho', 'ochoa', 'octavos', 'oculta', 'oficina', 'ofrece', 'ofrecerles', 'ofreciendoles', 'ofreser', 'ogala', 'ohese', 'ojala', 'ojalas', 'ojalá', 'ojito', 'ojos', 'oki', 'ola', 'olaja', 'oler', 'olimpia', 'olita', 'oliva', 'olladecomida', 'olor', 'olvera', 'olvides', 'olvido', 'ome', 'omega', 'omego', 'omidas', 'opcion', 'opción', 'operacion', 'opinar', 'opinion', 'opiniones', 'opinión', 'opino', 'oportunidad', 'optimismo', 'optimizar', 'ora', 'oración', 'orala', 'orden', 'oregano', 'oreja', 'orelana', 'organizacion', 'orgulo', 'orgulosamente', 'orguloso', 'orible', 'original', 'originalmente', 'originaria', 'oro', 'ort', 'orégano', 'orígenes', 'oscar', 'osea', 'otero', 'otravez', 'oxidación', 'oxidarse', 'oxide', 'oye', 'pablo', 'pacheco', 'paciencia', 'pacientemente', 'padre', 'padreesposohijoamigo', 'padres', 'paela', 'paella', 'pagar', 'pagarían', 'paila', 'pais', 'palabra', 'palabras', 'paladar', 'palma', 'palodecorazones', 'pamelita', 'pan', 'panaderia', 'panadería', 'pancake', 'pancakes', 'pancaks', 'pandemia', 'panela', 'panes', 'pankeis', 'pankey', 'panquecas', 'panqueques', 'papa', 'papas', 'papel', 'papelería', 'papi', 'papito', 'papá', 'par', 'para', 'parada', 'parales', 'parar', 'parece', 'parecerse', 'parecido', 'parecían', 'paredes', 'pareja', 'parejita', 'paren', 'parila', 'parilada', 'pariladas', 'parilas', 'parmesano', 'paro', 'parte', 'partes', 'participa', 'participamos', 'participando', 'participantes', 'participar', 'participare', 'participe', 'participen', 'participes', 'participo', 'particular', 'partido', 'partir', 'pasa', 'pasado', 'pasamos', 'pasar', 'pasará', 'pasas', 'pase', 'paseo', 'pasion', 'paso', 'pasos', 'pasreles', 'pasta', 'pastas', 'paste', 'pastel', 'pasteleria', 'pastelería', 'pastilaje', 'pasó', 'pata', 'patacones', 'patatasfritas', 'patcones', 'patio', 'pato', 'patricia', 'paula', 'paulina', 'paulita', 'pauta', 'pava', 'pavo', 'payasa', 'payaso', 'paz', 'pazmiño', 'pañalera', 'pdta', 'pechuga', 'peco', 'pedazo', 'pedian', 'pediatra', 'pedidos', 'pedimos', 'pedir', 'pedirle', 'pedro', 'pego', 'pelamos', 'pelar', 'pelear', 'peli', 'peliamos', 'pelicula', 'peliculas', 'pelucas', 'películas', 'pena', 'penas', 'pendiente', 'penemos', 'peninsula', 'pensamiento', 'pensamientos', 'pensando', 'pensemos', 'peo', 'peor', 'pepa', 'pequeña', 'pequeñas', 'pequeñitos', 'pequeño', 'pequeňo', 'perderme', 'perdida', 'perdiz', 'perdomo', 'perdon', 'perdone', 'perdí', 'perejil', 'perez', 'pereza', 'perfecta', 'perfecto', 'perfectos', 'perfil', 'perjil', 'permanece', 'permita', 'permite', 'perritocaliente', 'perserverancia', 'perserverar', 'perseverancia', 'perseverante', 'persona', 'personahaciendounareverencia', 'personal', 'personales', 'personalmente', 'personas', 'personitas', 'pertenecer', 'perú', 'pesar', 'pescado', 'pescados', 'pese', 'peso', 'petición', 'petita', 'peña', 'peñafiel', 'pgomez', 'picada', 'picadas', 'picadito', 'picaditos', 'picanteria', 'picnic', 'pidan', 'pide', 'piden', 'pidieron', 'pidio', 'pidiéndole', 'pido', 'piel', 'piensa', 'piensan', 'pienso', 'pienzo', 'pierda', 'pierdan', 'pierde', 'pierdo', 'pilar', 'pilas', 'pile', 'piloso', 'pimiebta', 'pimienta', 'pimiento', 'pimientos', 'pinargote', 'pintor', 'pionce', 'piruleta', 'piscina', 'piso', 'pistacho', 'piza', 'pizas', 'place', 'placer', 'plancha', 'planeta', 'planta', 'plasman', 'platano', 'platilo', 'plato', 'platos', 'playa', 'plazo', 'plenamente', 'plis', 'pluas', 'plural', 'plátano', 'pobrar', 'pobres', 'pocoosea', 'pocos', 'podamos', 'podemos', 'poder', 'poderles', 'poderlo', 'podia', 'podido', 'podria', 'podrás', 'podré', 'podría', 'podríamos', 'podía', 'polito', 'polo', 'polodesafiodelafavorita', 'polom', 'poloretofavorita', 'pondre', 'pone', 'ponemos', 'ponen', 'poner', 'ponerle', 'ponerlo', 'ponerlos', 'ponerme', 'ponernos', 'pones', 'ponga', 'pongame', 'pongo', 'poniendo', 'pop', 'poquito', 'por', 'porciones', 'porf', 'porfa', 'porfavor', 'porfin', 'porfis', 'porq', 'porqué', 'porsupuesto', 'poser', 'posibilidad', 'posible', 'positivo', 'post', 'postisos', 'postizos', 'postre', 'postrecito', 'postres', 'posupuesto', 'pot', 'pou', 'pozo', 'pra', 'practicamente', 'practicá', 'prado', 'precio', 'precios', 'preciosa', 'precisa', 'preferencia', 'preferida', 'preferido', 'preferidos', 'preferire', 'preferirnos', 'prefiere', 'prefieres', 'prefiero', 'pregunta', 'preguntan', 'preguntas', 'pregunte', 'pregunto', 'prematuto', 'premio', 'premios', 'preocupacionea', 'preocupamos', 'preocupe', 'preocupen', 'preocupes', 'prepara', 'preparaba', 'preparacion', 'preparaciones', 'preparación', 'preparada', 'preparadas', 'preparado', 'preparados', 'preparamos', 'preparando', 'preparar', 'prepararte', 'preparará', 'prepararé', 'prepararía', 'preparaste', 'prepare', 'preparen', 'preparo', 'preparsndo', 'preparándola', 'preparó', 'preselecinados', 'presentaciones', 'presentadora', 'presente', 'presentes', 'prest', 'presta', 'prestigiosa', 'prima', 'primer', 'primera', 'primeramente', 'primero', 'primeros', 'primordial', 'princesa', 'principalmente', 'principiante', 'principios', 'prob', 'probadita', 'probado', 'probamos', 'probar', 'probarlo', 'probe', 'problema', 'problemas', 'probé', 'procesando', 'proceso', 'produciendo', 'producto', 'productoa', 'productos', 'profesionales', 'profesión', 'profesor', 'programa', 'promo', 'promocion', 'promociones', 'promoción', 'pronto', 'propaganda', 'propi', 'propia', 'propietaria', 'propio', 'propios', 'proporcionará', 'propuestas', 'propósito', 'prospere', 'protagonistas', 'proteciones', 'proteja', 'proteína', 'provedor', 'proviene', 'provincia', 'provocas', 'proxima', 'proximante', 'proyecto', 'proyectos', 'prueba', 'pruebala', 'pruebo', 'pruébalo', 'práctico', 'próxim', 'próxima', 'próximamente', 'próximo', 'próximos', 'psji', 'ptoductos', 'publicaciones', 'publicado', 'publicar', 'publicidad', 'publiquen', 'publícarlo', 'pude', 'pudieron', 'pueblo', 'pueda', 'puedan', 'puedas', 'puede', 'pueden', 'puedendecir', 'puedes', 'puedo', 'puerta', 'pues', 'puesto', 'puestos', 'pulgarhaciaarriba', 'pulpo', 'pulpocuando', 'puntas', 'punto', 'puntos', 'pura', 'pure', 'puré', 'pusimos', 'puso', 'puta', 'pyefe', 'página', 'pérez', 'qerico', 'qro', 'que', 'queda', 'quedamos', 'quedan', 'quedar', 'quedaran', 'quedaria', 'quedaron', 'quedará', 'quedarán', 'quedaría', 'quede', 'queden', 'quedo', 'quedé', 'quedó', 'queja', 'queremos', 'querian', 'querida', 'querido', 'queridos', 'queso', 'quiera', 'quiere', 'quieren', 'quieres', 'quiero', 'quijije', 'quingalombo', 'quinoa', 'quinua', 'quiroz', 'quise', 'quisera', 'quisiera', 'quiso', 'quitan', 'quite', 'quito', 'quién', 'qué', 'rach', 'radiante', 'rafaela', 'raices', 'ralado', 'ramirez', 'ramiro', 'ramon', 'ranch', 'rangel', 'rapaditas', 'rapido', 'rasch', 'raspadita', 'raspe', 'ratas', 'rato', 'raul', 'raymond', 'razón', 'raíces', 'real', 'realce', 'realicé', 'realidad', 'realizada', 'realizar', 'realizara', 'realizará', 'realizó', 'realmente', 'realza', 'rebeca', 'recarga', 'receta', 'recetas', 'recetascalientes', 'recetasfavorita', 'reciben', 'recibido', 'recibiendo', 'recibiremos', 'reciclados', 'recidido', 'recien', 'recipiente', 'recién', 'recomendable', 'recomendaciones', 'recomendación', 'recomendado', 'recomendó', 'recomienda', 'recomiendo', 'recontra', 'recordadas', 'rectificamos', 'recuerda', 'recuerdo', 'recuperando', 'recurso', 'redes', 'reduzca', 'reflexionen', 'reflexión', 'refrito', 'regalar', 'regalaran', 'regalenme', 'regalo', 'registar', 'registrarme', 'registrate', 'registre', 'registro', 'regrese', 'regístrate', 'regístrense', 'reina', 'relación', 'relajación', 'relajarme', 'relena', 'relenar', 'relenas', 'releno', 'relenos', 'remojar', 'remojo', 'remover', 'rendirnos', 'rendon', 'rene', 'rentables', 'repartieron', 'repectar', 'repetir', 'repisa', 'repitonel', 'reposar', 'reposteria', 'reposteros', 'repostería', 'repuesta', 'repugnante', 'requeremos', 'requerimiento', 'requeté', 'requiera', 'res', 'rescatar', 'reseque', 'reseta', 'resetas', 'resfrito', 'resgritoacademia', 'resisitir', 'resistirse', 'respectivas', 'respeto', 'respetos', 'responder', 'respondiendo', 'responsable', 'respuesta', 'restauran', 'restaurant', 'restaurante', 'restaurantes', 'restaurats', 'reste', 'resto', 'resultado', 'resultados', 'retira', 'retiramos', 'retirar', 'reto', 'reunimos', 'reuniones', 'reunir', 'reunirnos', 'reunión', 'reuní', 'revisa', 'revisen', 'revistas', 'revolviendo', 'revolviendolo', 'revueltos', 'rey', 'reyes', 'reztaurante', 'rica', 'ricas', 'richard', 'rico', 'ricos', 'rika', 'rikisimo', 'riko', 'rinde', 'riofriomaite', 'rios', 'riquisimas', 'riquisimo', 'riquisimos', 'riquisisisimo', 'riquísima', 'riquísimas', 'riquísimo', 'riquísimobueno', 'riquísimos', 'riquísisimo', 'risas', 'ritual', 'rivas', 'rivaspriscila', 'rivasroxana', 'rivassandy', 'rivera', 'riñones', 'robalo', 'robar', 'robarlo', 'robarme', 'roberto', 'rocha', 'rocio', 'rocíogracias', 'rodas', 'rodrigo', 'roldos', 'rolito', 'rolitos', 'romero', 'rompe', 'rompiendo', 'rony', 'ropa', 'rosa', 'rosado', 'rosana', 'rosario', 'rosi', 'rosio', 'rosita', 'roxanamarthadentro', 'roxi', 'ruby', 'ruego', 'ruiz', 'ruth', 'rápidas', 'rápido', 'sabados', 'sabe', 'sabemos', 'saben', 'saber', 'sabes', 'sabia', 'sabido', 'sabiduría', 'sabio', 'sabor', 'saborea', 'saborear', 'saborearlas', 'saborearte', 'saboreo', 'sabores', 'sabras', 'sabrosa', 'sabrosas', 'sabroso', 'sabrosísimo', 'sabrás', 'sabía', 'saca', 'sacamos', 'sacar', 'sacarlo', 'sacarlos', 'sacaron', 'sachet', 'sachets', 'sahona', 'sal', 'saladita', 'salcan', 'salcuando', 'saldariaga', 'saldremos', 'sale', 'salen', 'sales', 'salga', 'salgan', 'salgo', 'salida', 'salido', 'salio', 'salir', 'salsa', 'salsas', 'salta', 'salud', 'saludable', 'saludablemente', 'saludara', 'saluditos', 'saludos', 'salvo', 'salí', 'samana', 'san', 'sana', 'sanas', 'sanchez', 'sancocho', 'sandra', 'sanduhes', 'sandy', 'sango', 'sangre', 'sano', 'santa', 'santiago', 'santicimo', 'santisima', 'santo', 'santoro', 'santos', 'sarita', 'saritama', 'sarta', 'sarten', 'sartén', 'satisfacer', 'satisfechos', 'saul', 'sazon', 'sazonar', 'sazono', 'sazón', 'seción', 'seco', 'secos', 'secret', 'secreto', 'sector', 'sectorpor', 'sefrie', 'segir', 'seguimos', 'seguir', 'seguirte', 'seguiré', 'segunda', 'segundo', 'segundos', 'segura', 'seguridad', 'seguro', 'según', 'selada', 'selan', 'selar', 'selecionados', 'selfies', 'semana', 'semanas', 'seminario', 'sensaciones', 'sentada', 'sentimiento', 'sentir', 'sentirse', 'sepa', 'separarse', 'sepultura', 'sequito', 'ser', 'sera', 'seran', 'sercomo', 'sere', 'seres', 'seria', 'serie', 'seriedad', 'servicio', 'servirles', 'será', 'severa', 'severo', 'señaldeaprobaciónconlamano', 'señor', 'señora', 'señores', 'sgte', 'shirley', 'shoping', 'shou', 'sicuando', 'sido', 'siemp', 'siempre', 'siendo', 'siento', 'siga', 'sigan', 'significa', 'significado', 'sigo', 'sigue', 'siguiendo', 'siguiente', 'siguientes', 'silvana', 'silvia', 'simple', 'simplemente', 'simples', 'sinai', 'sincera', 'sino', 'sirve', 'sirven', 'sirvo', 'situacion', 'situación', 'sixto', 'slente', 'sobraba', 'sobrantes', 'sobreconflecha', 'sobres', 'sobresitos', 'sobretodo', 'sobrevivencia', 'sobrinos', 'sociales', 'sociedad', 'sodio', 'sofrito', 'sol', 'sola', 'solange', 'soledad', 'solhambrefrio', 'solicitaron', 'solidaria', 'solita', 'solitario', 'solito', 'solo', 'solomilo', 'solprendida', 'solpresa', 'soltería', 'solucionar', 'solucionarlo', 'solucionemen', 'solución', 'sonia', 'sontérminos', 'sony', 'sopa', 'sopastortas', 'sopay', 'sopita', 'soportar', 'sordas', 'sorpresa', 'sorpresas', 'sorpreso', 'sorteada', 'sorteo', 'sorteos', 'sorteosya', 'soya', 'soñado', 'soñadora', 'soñando', 'sped', 'sra', 'sres', 'sta', 'stand', 'standfelicidades', 'stefania', 'stefy', 'stela', 'stock', 'stoy', 'stranger', 'suarez', 'suave', 'suaves', 'suban', 'sube', 'subi', 'subiendo', 'subimos', 'subir', 'subo', 'suburbio', 'subí', 'sucedió', 'suegra', 'suegro', 'sueltito', 'suerte', 'sueño', 'sueños', 'sugerencia', 'sumba', 'sumerguiendo', 'sumidoregara', 'super', 'superar', 'superarse', 'superficie', 'supermaxi', 'supermercado', 'supermercados', 'supero', 'supo', 'supuesto', 'sur', 'surtidito', 'susa', 'susamente', 'susana', 'sustento', 'suárez', 'sylvia', 'sábado', 'sábanas', 'síguenos', 'símbolodeenfado', 'sódico', 'sólo', 'súper', 'tabajar', 'tabletadechocolate', 'taco', 'tal', 'talarin', 'talarines', 'talvez', 'tamales', 'tamb', 'tambien', 'tambiendeberia', 'tambièn', 'tambn', 'tan', 'tanbien', 'tania', 'tantas', 'tantiene', 'tantos', 'tapa', 'tapas', 'tapaspalabra', 'tapias', 'tapitas', 'tarde', 'tardes', 'tarea', 'target', 'tarjetas', 'tarrodemiel', 'tartadecumpleaños', 'tas', 'tathy', 'taty', 'taxista', 'taza', 'tazas', 'tazóndefideos', 'techo', 'tecnica', 'tejida', 'tejidos', 'tema', 'temerosa', 'temprano', 'tenebroso', 'tenedor', 'tenedorycuchillo', 'tener', 'tenerla', 'tenerlos', 'tenerte', 'tenia', 'tentación', 'tento', 'tercera', 'tercero', 'tere', 'teremoto', 'terenal', 'teresa', 'termina', 'terminan', 'terminar', 'terminaron', 'termino', 'terminos', 'terminó', 'terner', 'tesis', 'textura', 'tia', 'tibio', 'ticket', 'tidavia', 'tidos', 'tiempi', 'tiempo', 'tienda', 'tiendas', 'tiende', 'tiendita', 'tienen', 'tigrero', 'tigrilo', 'tilapia', 'tinedo', 'tinte', 'tipeja', 'tipica', 'tipico', 'tipo', 'tipos', 'tips', 'tisne', 'toapanta', 'toca', 'tocino', 'toco', 'tocó', 'toda', 'todabia', 'todas', 'todavia', 'todavía', 'todopoderoso', 'todos', 'tomando', 'tomar', 'tomaremos', 'tomate', 'tome', 'tomen', 'tonga', 'toque', 'toquecito', 'toquesito', 'tore', 'tores', 'tortas', 'tortilas', 'tortita', 'tosino', 'toso', 'tosta', 'tostada', 'tostadas', 'tostaditoy', 'tostado', 'tostar', 'totalmente', 'tour', 'tovar', 'tpostadas', 'trabaja', 'trabajaba', 'trabajador', 'trabajadora', 'trabajadoras', 'trabajadorasbendiciones', 'trabajadores', 'trabajamos', 'trabajan', 'trabajando', 'trabajar', 'trabajo', 'tradicion', 'tradicional', 'tradición', 'trae', 'tragar', 'tranquila', 'trans', 'transmision', 'transmisión', 'transmitirá', 'tras', 'trata', 'tratan', 'tratando', 'tratare', 'trato', 'través', 'trayendo', 'tre', 'tremenda', 'tres', 'trinitaria', 'triste', 'tristes', 'tristezas', 'trituramos', 'trocear', 'trozodetarta', 'truco', 'trufas', 'tréboldecuatrohojas', 'tuesta', 'tui', 'tulcan', 'técnicas', 'término', 'términos', 'tía', 'tío', 'ube', 'ubicadas', 'uchuari', 'uds', 'uhm', 'ultimo', 'umber', 'unas', 'unica', 'unico', 'unidad', 'unidas', 'unido', 'unidos', 'uniforme', 'unio', 'union', 'unior', 'unión', 'untable', 'untables', 'untada', 'untadas', 'untandolo', 'untar', 'untarlo', 'urdesa', 'ureta', 'usa', 'usado', 'usadoeste', 'usamos', 'usando', 'usar', 'use', 'uso', 'usos', 'usted', 'ustedes', 'utilidades', 'utiliza', 'utilizamos', 'utilizando', 'utilizar', 'utilizo', 'utilizó', 'utuliza', 'uum', 'uwu', 'vaca', 'vacaciones', 'vacios', 'vaina', 'vainila', 'vainitas', 'valdria', 'vale', 'valen', 'valentin', 'valentina', 'valentín', 'valido', 'valiente', 'valor', 'valoren', 'valores', 'vamos', 'van', 'vargas', 'variableslo', 'variar', 'varias', 'variedad', 'varios', 'varón', 'vasos', 'vaya', 'vayamos', 'vea', 'veces', 'vecinos', 'vegetal', 'vegetales', 'vejez', 'velasco', 'vemos', 'ven', 'vencida', 'vencidas', 'vendan', 'vende', 'vendeb', 'vendedor', 'vendemos', 'venden', 'vender', 'vendersus', 'vendia', 'vendicion', 'vendo', 'vendra', 'venezolana', 'venga', 'vengan', 'venta', 'ventas', 'venturoso', 'veo', 'ver', 'vera', 'verdad', 'verdadera', 'verdadero', 'verdaderos', 'verdaders', 'verde', 'verdecito', 'verdesoto', 'verduras', 'verlo', 'verme', 'veronica', 'verte', 'verónica', 'ves', 'vez', 'viaje', 'vicio', 'victor', 'vida', 'video', 'videos', 'vidrio', 'viejo', 'viendo', 'viene', 'vienesa', 'vientre', 'viernes', 'vigente', 'vilacres', 'vilalta', 'vilareal', 'vilegas', 'vilma', 'vimos', 'vinagre', 'vinagreta', 'vino', 'virgen', 'virtualfelicidades', 'vision', 'visita', 'visitar', 'visió', 'viste', 'vistes', 'visto', 'viva', 'vive', 'viven', 'viveres', 'vivienda', 'viviendo', 'vivir', 'vivo', 'voi', 'volquen', 'voluntad', 'voluntario', 'volvió', 'voy', 'vuelto', 'vuelva', 'vuelve', 'válida', 'víctor', 'vídeo', 'vídeos', 'wacademialafavoritacomec', 'wao', 'wau', 'web', 'wendy', 'wester', 'western', 'wicho', 'wiliams', 'wilson', 'wlafavoritacomec', 'wow', 'wtucasalafabrilcomec', 'wuao', 'wuester', 'xavier', 'xfavor', 'xfis', 'xiomy', 'xqyo', 'ya', 'yadira', 'yaf', 'yameme', 'yanez', 'yapigacho', 'yapingacho', 'ycuando', 'yejorar', 'yesenia', 'yiyi', 'yolanda', 'yolys', 'yuca', 'yupi', 'zadana', 'zahoria', 'zambrano', 'zambranoninfa', 'zamora', 'zanahoria', 'zavala', 'zeus', 'zoila', 'zona', 'zory', 'zuleika', 'zuliana', 'zuñiga', 'ácidos', 'ánforas', 'árbitro', 'árbol', 'árboldenavidad', 'ésta', 'éste', 'éxito', 'éxitos', 'ñaño', 'ñetos', 'último', 'única', 'único', 'únicos', 'ğarcîa']\n"
     ]
    }
   ],
   "source": [
    "print(vect1.get_feature_names()) #one hot encoding?"
   ]
  },
  {
   "cell_type": "code",
   "execution_count": 18,
   "metadata": {},
   "outputs": [],
   "source": [
    "from sklearn.feature_extraction.text import TfidfTransformer\n",
    "tfidf = TfidfTransformer()\n",
    "X_train = tfidf.fit_transform(X_train)\n",
    "X_test = tfidf.transform(X_test)\n",
    "X_train = X_train.toarray()\n",
    "X_test = X_test.toarray()"
   ]
  },
  {
   "cell_type": "code",
   "execution_count": 19,
   "metadata": {
    "scrolled": true
   },
   "outputs": [
    {
     "name": "stdout",
     "output_type": "stream",
     "text": [
      "(1918, 4497)\n",
      "(822, 4497)\n",
      "(1918,)\n",
      "(822,)\n"
     ]
    }
   ],
   "source": [
    "print(X_train.shape)\n",
    "print(X_test.shape)\n",
    "print(y_train.shape)\n",
    "print(y_test.shape)"
   ]
  },
  {
   "cell_type": "code",
   "execution_count": 20,
   "metadata": {},
   "outputs": [
    {
     "data": {
      "text/plain": [
       "TruncatedSVD(n_components=5, n_iter=7, random_state=42)"
      ]
     },
     "execution_count": 20,
     "metadata": {},
     "output_type": "execute_result"
    }
   ],
   "source": [
    "from sklearn.decomposition import TruncatedSVD\n",
    "from scipy.sparse import random as sparse_random\n",
    "svd = TruncatedSVD(n_components=5, n_iter=7, random_state=42)\n",
    "svd.fit(X_train)"
   ]
  },
  {
   "cell_type": "code",
   "execution_count": 21,
   "metadata": {},
   "outputs": [],
   "source": [
    "svd = TruncatedSVD(n_components=4000, n_iter=7, random_state=42)\n",
    "svd.fit(X_train)\n",
    "percent_variance_retained = svd.explained_variance_ / np.sum(svd.explained_variance_)\n",
    "cumulative_variance_retained = np.cumsum(percent_variance_retained)"
   ]
  },
  {
   "cell_type": "code",
   "execution_count": 22,
   "metadata": {
    "scrolled": true
   },
   "outputs": [
    {
     "data": {
      "image/png": "[encoded data removed]",
      "text/plain": [
       "<Figure size 720x432 with 1 Axes>"
      ]
     },
     "metadata": {
      "needs_background": "light"
     },
     "output_type": "display_data"
    }
   ],
   "source": [
    "import matplotlib.pyplot as plt\n",
    "plt.figure(1, figsize=(10, 6))\n",
    "plt.clf()\n",
    "plt.plot(cumulative_variance_retained, linewidth=2)\n",
    "plt.axis('tight')\n",
    "plt.grid()\n",
    "plt.xlabel('Number of Components')\n",
    "plt.ylabel('Cumulative variance Retained')\n",
    "plt.show()"
   ]
  },
  {
   "cell_type": "code",
   "execution_count": 30,
   "metadata": {},
   "outputs": [],
   "source": [
    "NComponents = 800\n",
    "svd = TruncatedSVD(n_components=NComponents, n_iter=7, random_state=42)\n",
    "X_svd_train = svd.fit_transform(X_train)\n",
    "X_svd_test = svd.transform(X_test)"
   ]
  },
  {
   "cell_type": "code",
   "execution_count": 31,
   "metadata": {
    "scrolled": true
   },
   "outputs": [
    {
     "name": "stdout",
     "output_type": "stream",
     "text": [
      "(1918, 800)\n",
      "(822, 800)\n",
      "(1918,)\n",
      "(822,)\n"
     ]
    }
   ],
   "source": [
    "print(X_svd_train.shape)\n",
    "print(X_svd_test.shape)\n",
    "print(y_train.shape)\n",
    "print(y_test.shape)"
   ]
  },
  {
   "cell_type": "code",
   "execution_count": 32,
   "metadata": {},
   "outputs": [
    {
     "name": "stderr",
     "output_type": "stream",
     "text": [
      "C:\\Users\\gpulg\\anaconda3\\lib\\site-packages\\sklearn\\linear_model\\_stochastic_gradient.py:570: ConvergenceWarning: Maximum number of iteration reached before convergence. Consider increasing max_iter to improve the fit.\n",
      "  warnings.warn(\"Maximum number of iteration reached before \"\n"
     ]
    },
    {
     "data": {
      "text/plain": [
       "SGDClassifier(max_iter=7)"
      ]
     },
     "execution_count": 32,
     "metadata": {},
     "output_type": "execute_result"
    }
   ],
   "source": [
    "from sklearn.svm import SVC\n",
    "from sklearn.model_selection import cross_validate\n",
    "from sklearn.model_selection import cross_val_score\n",
    "from sklearn.linear_model import SGDClassifier\n",
    "svc=SVC(kernel='poly',C=0.1, degree=3, coef0=0.0, class_weight='balanced')\n",
    "scores = cross_val_score(svc, X_svd_train, y_train, cv=3, scoring='accuracy')\n",
    "svc = SGDClassifier(max_iter=7)\n",
    "svc.fit(X_svd_train, y_train)"
   ]
  },
  {
   "cell_type": "code",
   "execution_count": 33,
   "metadata": {},
   "outputs": [
    {
     "data": {
      "text/plain": [
       "0.781021897810219"
      ]
     },
     "execution_count": 33,
     "metadata": {},
     "output_type": "execute_result"
    }
   ],
   "source": [
    "# accuracy on testing\n",
    "svc.score(X_svd_test, y_test)"
   ]
  },
  {
   "cell_type": "code",
   "execution_count": 34,
   "metadata": {},
   "outputs": [
    {
     "data": {
      "text/plain": [
       "array(['Neutral', 'Neutral', 'Positive', 'Positive', 'Positive',\n",
       "       'Neutral', 'Neutral', 'Neutral', 'Neutral', 'Positive', 'Neutral',\n",
       "       'Neutral', 'Neutral', 'Neutral', 'Positive', 'Positive', 'Neutral',\n",
       "       'Neutral', 'Positive', 'Neutral', 'Neutral', 'Neutral', 'Neutral',\n",
       "       'Positive', 'Neutral', 'Positive', 'Positive', 'Positive',\n",
       "       'Neutral', 'Neutral', 'Positive', 'Positive', 'Positive',\n",
       "       'Neutral', 'Neutral', 'Positive', 'Positive', 'Positive',\n",
       "       'Neutral', 'Positive', 'Negative', 'Neutral', 'Positive',\n",
       "       'Positive', 'Negative', 'Neutral', 'Neutral', 'Positive',\n",
       "       'Neutral', 'Positive', 'Positive', 'Neutral', 'Positive',\n",
       "       'Positive', 'Neutral', 'Neutral', 'Positive', 'Neutral', 'Neutral',\n",
       "       'Neutral', 'Neutral', 'Positive', 'Neutral', 'Neutral', 'Positive',\n",
       "       'Neutral', 'Neutral', 'Positive', 'Positive', 'Positive',\n",
       "       'Neutral', 'Neutral', 'Positive', 'Neutral', 'Negative', 'Neutral',\n",
       "       'Neutral', 'Neutral', 'Neutral', 'Neutral', 'Positive', 'Neutral',\n",
       "       'Positive', 'Neutral', 'Positive', 'Neutral', 'Neutral', 'Neutral',\n",
       "       'Positive', 'Neutral', 'Neutral', 'Neutral', 'Positive',\n",
       "       'Positive', 'Positive', 'Neutral', 'Positive', 'Neutral',\n",
       "       'Positive', 'Neutral', 'Positive', 'Neutral', 'Neutral',\n",
       "       'Positive', 'Neutral', 'Positive', 'Neutral', 'Positive',\n",
       "       'Positive', 'Neutral', 'Positive', 'Neutral', 'Positive',\n",
       "       'Neutral', 'Positive', 'Neutral', 'Positive', 'Positive',\n",
       "       'Neutral', 'Neutral', 'Positive', 'Neutral', 'Neutral', 'Neutral',\n",
       "       'Neutral', 'Positive', 'Positive', 'Positive', 'Neutral',\n",
       "       'Positive', 'Neutral', 'Neutral', 'Positive', 'Neutral',\n",
       "       'Positive', 'Neutral', 'Neutral', 'Neutral', 'Positive',\n",
       "       'Positive', 'Positive', 'Negative', 'Neutral', 'Neutral',\n",
       "       'Neutral', 'Positive', 'Neutral', 'Positive', 'Positive',\n",
       "       'Positive', 'Positive', 'Neutral', 'Positive', 'Neutral',\n",
       "       'Positive', 'Positive', 'Neutral', 'Positive', 'Neutral',\n",
       "       'Positive', 'Positive', 'Positive', 'Neutral', 'Neutral',\n",
       "       'Neutral', 'Neutral', 'Neutral', 'Neutral', 'Positive', 'Neutral',\n",
       "       'Positive', 'Positive', 'Neutral', 'Neutral', 'Neutral',\n",
       "       'Positive', 'Positive', 'Positive', 'Neutral', 'Neutral',\n",
       "       'Positive', 'Positive', 'Positive', 'Positive', 'Neutral',\n",
       "       'Positive', 'Neutral', 'Neutral', 'Neutral', 'Positive',\n",
       "       'Positive', 'Positive', 'Neutral', 'Positive', 'Positive',\n",
       "       'Neutral', 'Positive', 'Neutral', 'Positive', 'Positive',\n",
       "       'Neutral', 'Positive', 'Negative', 'Neutral', 'Neutral',\n",
       "       'Positive', 'Neutral', 'Positive', 'Positive', 'Neutral',\n",
       "       'Neutral', 'Positive', 'Positive', 'Neutral', 'Neutral', 'Neutral',\n",
       "       'Positive', 'Positive', 'Neutral', 'Positive', 'Negative',\n",
       "       'Neutral', 'Neutral', 'Neutral', 'Neutral', 'Neutral', 'Neutral',\n",
       "       'Neutral', 'Positive', 'Negative', 'Positive', 'Neutral',\n",
       "       'Positive', 'Neutral', 'Neutral', 'Neutral', 'Neutral', 'Positive',\n",
       "       'Neutral', 'Neutral', 'Neutral', 'Neutral', 'Positive', 'Positive',\n",
       "       'Positive', 'Positive', 'Positive', 'Positive', 'Positive',\n",
       "       'Positive', 'Positive', 'Negative', 'Positive', 'Neutral',\n",
       "       'Neutral', 'Positive', 'Neutral', 'Neutral', 'Neutral', 'Positive',\n",
       "       'Neutral', 'Neutral', 'Neutral', 'Positive', 'Neutral', 'Neutral',\n",
       "       'Neutral', 'Positive', 'Neutral', 'Neutral', 'Positive', 'Neutral',\n",
       "       'Neutral', 'Negative', 'Neutral', 'Positive', 'Positive',\n",
       "       'Neutral', 'Positive', 'Positive', 'Positive', 'Neutral',\n",
       "       'Positive', 'Neutral', 'Positive', 'Neutral', 'Neutral',\n",
       "       'Positive', 'Positive', 'Positive', 'Positive', 'Neutral',\n",
       "       'Positive', 'Positive', 'Neutral', 'Positive', 'Negative',\n",
       "       'Positive', 'Positive', 'Positive', 'Neutral', 'Negative',\n",
       "       'Neutral', 'Neutral', 'Neutral', 'Neutral', 'Positive', 'Neutral',\n",
       "       'Positive', 'Neutral', 'Neutral', 'Positive', 'Positive',\n",
       "       'Neutral', 'Positive', 'Neutral', 'Neutral', 'Positive',\n",
       "       'Positive', 'Positive', 'Positive', 'Positive', 'Neutral',\n",
       "       'Neutral', 'Neutral', 'Neutral', 'Neutral', 'Positive', 'Positive',\n",
       "       'Positive', 'Neutral', 'Positive', 'Positive', 'Negative',\n",
       "       'Neutral', 'Positive', 'Positive', 'Positive', 'Positive',\n",
       "       'Positive', 'Neutral', 'Positive', 'Neutral', 'Neutral',\n",
       "       'Positive', 'Positive', 'Neutral', 'Neutral', 'Positive',\n",
       "       'Negative', 'Positive', 'Neutral', 'Negative', 'Neutral',\n",
       "       'Positive', 'Neutral', 'Positive', 'Neutral', 'Neutral', 'Neutral',\n",
       "       'Positive', 'Neutral', 'Positive', 'Positive', 'Neutral',\n",
       "       'Neutral', 'Neutral', 'Neutral', 'Positive', 'Neutral', 'Neutral',\n",
       "       'Positive', 'Positive', 'Neutral', 'Positive', 'Neutral',\n",
       "       'Neutral', 'Positive', 'Positive', 'Positive', 'Neutral',\n",
       "       'Negative', 'Positive', 'Neutral', 'Positive', 'Positive',\n",
       "       'Neutral', 'Positive', 'Neutral', 'Positive', 'Positive',\n",
       "       'Neutral', 'Positive', 'Neutral', 'Positive', 'Neutral',\n",
       "       'Positive', 'Neutral', 'Negative', 'Positive', 'Neutral',\n",
       "       'Neutral', 'Neutral', 'Positive', 'Positive', 'Positive',\n",
       "       'Positive', 'Neutral', 'Neutral', 'Positive', 'Positive',\n",
       "       'Positive', 'Negative', 'Neutral', 'Neutral', 'Neutral',\n",
       "       'Positive', 'Neutral', 'Positive', 'Neutral', 'Neutral', 'Neutral',\n",
       "       'Positive', 'Neutral', 'Positive', 'Neutral', 'Neutral', 'Neutral',\n",
       "       'Positive', 'Neutral', 'Neutral', 'Neutral', 'Positive', 'Neutral',\n",
       "       'Positive', 'Positive', 'Neutral', 'Positive', 'Neutral',\n",
       "       'Positive', 'Negative', 'Positive', 'Neutral', 'Negative',\n",
       "       'Neutral', 'Neutral', 'Positive', 'Neutral', 'Neutral', 'Positive',\n",
       "       'Neutral', 'Neutral', 'Neutral', 'Positive', 'Positive',\n",
       "       'Positive', 'Neutral', 'Positive', 'Neutral', 'Positive',\n",
       "       'Positive', 'Neutral', 'Neutral', 'Neutral', 'Neutral', 'Positive',\n",
       "       'Neutral', 'Positive', 'Positive', 'Positive', 'Neutral',\n",
       "       'Positive', 'Positive', 'Neutral', 'Neutral', 'Positive',\n",
       "       'Neutral', 'Neutral', 'Positive', 'Positive', 'Neutral', 'Neutral',\n",
       "       'Positive', 'Neutral', 'Neutral', 'Positive', 'Neutral',\n",
       "       'Positive', 'Positive', 'Positive', 'Neutral', 'Neutral',\n",
       "       'Positive', 'Neutral', 'Positive', 'Neutral', 'Neutral', 'Neutral',\n",
       "       'Positive', 'Neutral', 'Positive', 'Neutral', 'Positive',\n",
       "       'Neutral', 'Neutral', 'Neutral', 'Positive', 'Positive', 'Neutral',\n",
       "       'Neutral', 'Negative', 'Neutral', 'Positive', 'Neutral',\n",
       "       'Positive', 'Neutral', 'Neutral', 'Neutral', 'Positive',\n",
       "       'Positive', 'Neutral', 'Positive', 'Positive', 'Positive',\n",
       "       'Neutral', 'Neutral', 'Positive', 'Neutral', 'Neutral', 'Neutral',\n",
       "       'Positive', 'Neutral', 'Neutral', 'Positive', 'Positive',\n",
       "       'Positive', 'Neutral', 'Neutral', 'Positive', 'Neutral',\n",
       "       'Positive', 'Positive', 'Neutral', 'Positive', 'Neutral',\n",
       "       'Neutral', 'Positive', 'Neutral', 'Neutral', 'Positive', 'Neutral',\n",
       "       'Neutral', 'Neutral', 'Neutral', 'Neutral', 'Positive', 'Positive',\n",
       "       'Positive', 'Positive', 'Positive', 'Positive', 'Positive',\n",
       "       'Positive', 'Positive', 'Neutral', 'Neutral', 'Neutral', 'Neutral',\n",
       "       'Neutral', 'Neutral', 'Neutral', 'Neutral', 'Positive', 'Positive',\n",
       "       'Neutral', 'Positive', 'Positive', 'Neutral', 'Positive',\n",
       "       'Positive', 'Positive', 'Neutral', 'Neutral', 'Neutral',\n",
       "       'Positive', 'Positive', 'Neutral', 'Positive', 'Positive',\n",
       "       'Neutral', 'Positive', 'Neutral', 'Positive', 'Positive',\n",
       "       'Negative', 'Neutral', 'Neutral', 'Neutral', 'Positive',\n",
       "       'Positive', 'Negative', 'Neutral', 'Neutral', 'Positive',\n",
       "       'Neutral', 'Negative', 'Positive', 'Neutral', 'Positive',\n",
       "       'Neutral', 'Positive', 'Positive', 'Neutral', 'Positive',\n",
       "       'Positive', 'Positive', 'Neutral', 'Positive', 'Positive',\n",
       "       'Neutral', 'Neutral', 'Positive', 'Positive', 'Positive',\n",
       "       'Positive', 'Neutral', 'Neutral', 'Positive', 'Neutral', 'Neutral',\n",
       "       'Positive', 'Positive', 'Positive', 'Positive', 'Positive',\n",
       "       'Positive', 'Positive', 'Positive', 'Positive', 'Neutral',\n",
       "       'Neutral', 'Neutral', 'Neutral', 'Positive', 'Neutral', 'Neutral',\n",
       "       'Positive', 'Neutral', 'Positive', 'Neutral', 'Positive',\n",
       "       'Neutral', 'Positive', 'Neutral', 'Neutral', 'Neutral', 'Positive',\n",
       "       'Neutral', 'Neutral', 'Neutral', 'Neutral', 'Neutral', 'Positive',\n",
       "       'Positive', 'Neutral', 'Positive', 'Positive', 'Neutral',\n",
       "       'Positive', 'Positive', 'Neutral', 'Positive', 'Neutral',\n",
       "       'Positive', 'Neutral', 'Positive', 'Neutral', 'Neutral',\n",
       "       'Positive', 'Neutral', 'Neutral', 'Positive', 'Neutral', 'Neutral',\n",
       "       'Neutral', 'Positive', 'Neutral', 'Positive', 'Neutral', 'Neutral',\n",
       "       'Positive', 'Neutral', 'Neutral', 'Positive', 'Positive',\n",
       "       'Neutral', 'Positive', 'Positive', 'Neutral', 'Neutral', 'Neutral',\n",
       "       'Neutral', 'Neutral', 'Neutral', 'Positive', 'Positive',\n",
       "       'Positive', 'Neutral', 'Positive', 'Neutral', 'Positive',\n",
       "       'Neutral', 'Neutral', 'Positive', 'Positive', 'Neutral', 'Neutral',\n",
       "       'Neutral', 'Neutral', 'Neutral', 'Positive', 'Positive', 'Neutral',\n",
       "       'Neutral', 'Positive', 'Positive', 'Positive', 'Neutral',\n",
       "       'Positive', 'Neutral', 'Neutral', 'Positive', 'Positive',\n",
       "       'Neutral', 'Neutral', 'Positive', 'Neutral', 'Positive',\n",
       "       'Negative', 'Neutral', 'Neutral', 'Neutral', 'Neutral', 'Positive',\n",
       "       'Neutral', 'Positive', 'Positive', 'Neutral', 'Positive',\n",
       "       'Positive', 'Positive', 'Positive', 'Neutral', 'Positive',\n",
       "       'Positive', 'Neutral', 'Positive', 'Positive', 'Negative',\n",
       "       'Positive', 'Positive', 'Positive', 'Neutral', 'Positive',\n",
       "       'Positive', 'Neutral', 'Positive', 'Neutral', 'Positive',\n",
       "       'Neutral', 'Positive', 'Positive', 'Positive', 'Neutral',\n",
       "       'Positive', 'Neutral', 'Neutral', 'Positive', 'Positive',\n",
       "       'Neutral', 'Neutral', 'Neutral', 'Neutral', 'Neutral', 'Neutral',\n",
       "       'Positive', 'Neutral', 'Neutral', 'Positive', 'Positive',\n",
       "       'Neutral', 'Neutral', 'Positive', 'Neutral', 'Neutral', 'Neutral',\n",
       "       'Neutral', 'Neutral', 'Neutral', 'Neutral', 'Positive', 'Neutral',\n",
       "       'Neutral', 'Positive', 'Positive', 'Positive', 'Positive',\n",
       "       'Positive', 'Neutral', 'Neutral', 'Positive', 'Neutral', 'Neutral',\n",
       "       'Positive', 'Neutral', 'Positive', 'Positive', 'Neutral',\n",
       "       'Neutral', 'Positive', 'Positive', 'Negative'], dtype='<U8')"
      ]
     },
     "execution_count": 34,
     "metadata": {},
     "output_type": "execute_result"
    }
   ],
   "source": [
    "predicted_sentiments = svc.predict(X_svd_test)\n",
    "predicted_sentiments"
   ]
  },
  {
   "cell_type": "code",
   "execution_count": 35,
   "metadata": {
    "scrolled": false
   },
   "outputs": [
    {
     "name": "stdout",
     "output_type": "stream",
     "text": [
      "              precision    recall  f1-score   support\n",
      "\n",
      "    Positive       0.81      0.79      0.80       388\n",
      "    Negative       0.50      0.33      0.40        39\n",
      "     Neutral       0.77      0.82      0.79       395\n",
      "\n",
      "    accuracy                           0.78       822\n",
      "   macro avg       0.69      0.65      0.66       822\n",
      "weighted avg       0.78      0.78      0.78       822\n",
      "\n"
     ]
    }
   ],
   "source": [
    "report = metrics.classification_report(y_true=y_test, \n",
    "                                           y_pred=predicted_sentiments, \n",
    "                                           labels=['Positive', 'Negative', 'Neutral'])\n",
    "print(report)"
   ]
  },
  {
   "cell_type": "code",
   "execution_count": 36,
   "metadata": {},
   "outputs": [
    {
     "name": "stdout",
     "output_type": "stream",
     "text": [
      "Confusion matrix, without normalization\n",
      "[[ 13  19   7]\n",
      " [  8 322  65]\n",
      " [  5  76 307]]\n",
      "Normalized confusion matrix\n",
      "[[0.33333333 0.48717949 0.17948718]\n",
      " [0.02025316 0.81518987 0.16455696]\n",
      " [0.0128866  0.19587629 0.79123711]]\n"
     ]
    },
    {
     "data": {
      "image/png": "[encoded data removed]",
      "text/plain": [
       "<Figure size 432x288 with 2 Axes>"
      ]
     },
     "metadata": {
      "needs_background": "light"
     },
     "output_type": "display_data"
    },
    {
     "data": {
      "image/png": "[encoded data removed]",
      "text/plain": [
       "<Figure size 432x288 with 2 Axes>"
      ]
     },
     "metadata": {
      "needs_background": "light"
     },
     "output_type": "display_data"
    }
   ],
   "source": [
    "# Plot non-normalized confusion matrix\n",
    "from sklearn.metrics import plot_confusion_matrix\n",
    "titles_options = [(\"Confusion matrix, without normalization\", None),\n",
    "                  (\"Normalized confusion matrix\", 'true')]\n",
    "for title, normalize in titles_options:\n",
    "    disp = plot_confusion_matrix(svc, X_svd_test, y_test,\n",
    "                                 display_labels=['Negative', 'Neutral', 'Positive'],\n",
    "                                 cmap=plt.cm.Blues,\n",
    "                                 normalize=normalize)\n",
    "    disp.ax_.set_title(title)\n",
    "\n",
    "    print(title)\n",
    "    print(disp.confusion_matrix)\n",
    "\n",
    "plt.show()"
   ]
  },
  {
   "cell_type": "code",
   "execution_count": null,
   "metadata": {},
   "outputs": [],
   "source": []
  },
  {
   "cell_type": "code",
   "execution_count": null,
   "metadata": {},
   "outputs": [],
   "source": []
  },
  {
   "cell_type": "code",
   "execution_count": null,
   "metadata": {},
   "outputs": [],
   "source": []
  },
  {
   "cell_type": "code",
   "execution_count": null,
   "metadata": {},
   "outputs": [],
   "source": []
  }
 ],
 "metadata": {
  "kernelspec": {
   "display_name": "Python 3",
   "language": "python",
   "name": "python3"
  },
  "language_info": {
   "codemirror_mode": {
    "name": "ipython",
    "version": 3
   },
   "file_extension": ".py",
   "mimetype": "text/x-python",
   "name": "python",
   "nbconvert_exporter": "python",
   "pygments_lexer": "ipython3",
   "version": "3.8.3"
  }
 },
 "nbformat": 4,
 "nbformat_minor": 4
}
